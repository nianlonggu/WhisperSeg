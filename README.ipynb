{
 "cells": [
  {
   "cell_type": "markdown",
   "id": "72fef482-a129-44bc-a99c-da32d50b1347",
   "metadata": {},
   "source": [
    "# Set up environment"
   ]
  },
  {
   "cell_type": "markdown",
   "id": "c87d3251-b38e-4a75-887b-4f60bfbe7179",
   "metadata": {},
   "source": [
    "## Option 1: Set up environment in your local computer\n",
    "1. Install Miniconda (or Anaconda)\n",
    "https://docs.conda.io/en/latest/miniconda.html\n",
    "\n",
    "2. In the \"base\" anaconda environment, create a new environment \"syllable_segment\" (This installation will take a few minutes.):\n",
    "```bash\n",
    "conda env create -f environment.yml\n",
    "```\n",
    "3. Activate the anaconda environment \"syllable_segment\":\n",
    "```bash\n",
    "conda activate syllable_segment\n",
    "```\n",
    "Alternatively, one can go through all the packages that are imported, and install the missing packages manually.\n",
    "\n",
    "## Option 2: Run the code on google colab (with GPU runtime)\n",
    "Since google colab has preinstalled most of the package, we only need to install the \"transformers\" package\n",
    "```bash\n",
    "pip install transformers\n",
    "```\n",
    "\n",
    "The following commands assume that this jupyter notebook is running within the created anaconda environment, or with all necessary python packages installed."
   ]
  },
  {
   "cell_type": "markdown",
   "id": "3956eac2-46a0-4ed6-bc7b-2c70eec38934",
   "metadata": {},
   "source": [
    "# Use the pretrained WhisperSeg in command line"
   ]
  },
  {
   "cell_type": "code",
   "execution_count": 1,
   "id": "d46d8c00-bae9-45fc-a7fe-bb697f11f225",
   "metadata": {
    "tags": []
   },
   "outputs": [],
   "source": [
    "from model import WhisperSegmenter\n",
    "import librosa\n",
    "import pandas as pd\n",
    "import numpy as np"
   ]
  },
  {
   "cell_type": "code",
   "execution_count": 2,
   "id": "c0a2c0e4-c69e-4ae8-b3a5-deae090522c7",
   "metadata": {
    "tags": []
   },
   "outputs": [],
   "source": [
    "# initialize the segmenter\n",
    "segmenter = WhisperSegmenter(  model_path = \"nccratliri/vocal-segment-zebra-finch-whisper-large\", \n",
    "                        device = \"cuda\")"
   ]
  },
  {
   "cell_type": "code",
   "execution_count": 3,
   "id": "b2703150-28a4-4bed-ac98-692e23ea9fc9",
   "metadata": {
    "tags": []
   },
   "outputs": [],
   "source": [
    "# load an audio file, and resample the audio to the sampling rate 16000 Hz \n",
    "audio_file_name = \"data/R3406_035/test/R3406_40911.54676404_1_3_15_11_16.wav\"\n",
    "audio, _ = librosa.load( audio_file_name, sr = 16000 )"
   ]
  },
  {
   "cell_type": "code",
   "execution_count": 4,
   "id": "46784449-5eb6-4ee4-afe0-75ada540b8d7",
   "metadata": {
    "tags": []
   },
   "outputs": [],
   "source": [
    "# segment the audio, i.e., predict the paired on/offset of the audio\n",
    "prediction = segmenter.segment( audio )"
   ]
  },
  {
   "cell_type": "code",
   "execution_count": 5,
   "id": "6e498890-5775-457b-80a8-6ca24044cef8",
   "metadata": {
    "tags": []
   },
   "outputs": [
    {
     "data": {
      "text/plain": [
       "{'onset': array([1.47, 1.83, 1.93, 2.06, 2.17, 2.26, 2.43, 2.72, 2.92, 3.06, 3.14,\n",
       "        3.28, 3.62, 3.82, 4.1 , 4.2 , 4.97]),\n",
       " 'offset': array([1.58, 1.88, 2.03, 2.1 , 2.24, 2.37, 2.58, 2.84, 3.03, 3.13, 3.24,\n",
       "        3.43, 3.68, 3.9 , 4.15, 4.39, 5.07])}"
      ]
     },
     "execution_count": 5,
     "metadata": {},
     "output_type": "execute_result"
    }
   ],
   "source": [
    "prediction"
   ]
  },
  {
   "cell_type": "markdown",
   "id": "67504c22-ed57-433e-b63f-6d07ef750205",
   "metadata": {},
   "source": [
    "To save the prediction into a .csv file, run the following command:"
   ]
  },
  {
   "cell_type": "code",
   "execution_count": 6,
   "id": "43cf0f3b-f790-4f30-b4d3-e476d28b6a3d",
   "metadata": {
    "tags": []
   },
   "outputs": [],
   "source": [
    "# pd.DataFrame(prediction).to_csv(\"predicted_annotations.csv\", index = False)"
   ]
  },
  {
   "cell_type": "markdown",
   "id": "38482d13-59b2-4c90-af0f-278afe6ddccb",
   "metadata": {},
   "source": [
    "# Visualize the prediction\n",
    "This visualize function is only supported on jupter notebook and google colab, because it is an interactive plot that is a ipywidget feature."
   ]
  },
  {
   "cell_type": "code",
   "execution_count": 7,
   "id": "1dbd82b1-d160-417f-bf0b-d4b8e1e765b6",
   "metadata": {
    "tags": []
   },
   "outputs": [
    {
     "data": {
      "application/vnd.jupyter.widget-view+json": {
       "model_id": "5ed95c9432f94ba2a97838b4f24b435d",
       "version_major": 2,
       "version_minor": 0
      },
      "text/plain": [
       "interactive(children=(FloatSlider(value=1.0, description='offset', max=2.0530625000000002), Output()), _dom_cl…"
      ]
     },
     "metadata": {},
     "output_type": "display_data"
    },
    {
     "data": {
      "text/plain": [
       "<function ipywidgets.widgets.interaction._InteractFactory.__call__.<locals>.<lambda>(*args, **kwargs)>"
      ]
     },
     "execution_count": 7,
     "metadata": {},
     "output_type": "execute_result"
    }
   ],
   "source": [
    "segmenter.visualize( audio = audio, prediction = prediction, audio_file_name = audio_file_name)"
   ]
  },
  {
   "cell_type": "markdown",
   "id": "82676c41-b0ba-46f5-8b68-36244784cdaa",
   "metadata": {},
   "source": [
    "If we know the ground-truth label, we can also plot both the predicted label and the ground-truth label to visualize the prediction error.\n",
    "\n",
    "For example, we have the annotation file for the following wav file:"
   ]
  },
  {
   "cell_type": "code",
   "execution_count": 8,
   "id": "a18e63c5-6b14-4d03-921e-2d8cfcba88ad",
   "metadata": {
    "tags": []
   },
   "outputs": [
    {
     "data": {
      "text/plain": [
       "('data/R3406_035/test/R3406_40911.54676404_1_3_15_11_16.wav',\n",
       " 'data/R3406_035/test/R3406_40911.54676404_1_3_15_11_16.csv')"
      ]
     },
     "execution_count": 8,
     "metadata": {},
     "output_type": "execute_result"
    }
   ],
   "source": [
    "human_annotation_file_name = audio_file_name[:-4]+\".csv\"\n",
    "audio_file_name, human_annotation_file_name"
   ]
  },
  {
   "cell_type": "code",
   "execution_count": 9,
   "id": "f6819a71-7c73-4053-811d-ff1f0ed3ebb2",
   "metadata": {
    "tags": []
   },
   "outputs": [],
   "source": [
    "\"\"\" \n",
    "Both label and prediction is a dictionary. \n",
    "The dictionary contains two keys: onset and offset. \n",
    "The value for each key is an numpy array\n",
    "\"\"\"\n",
    "label_df = pd.read_csv( human_annotation_file_name )\n",
    "label = {\n",
    "    \"onset\":np.array(label_df[\"onset\"]),\n",
    "    \"offset\":np.array(label_df[\"offset\"])\n",
    "}"
   ]
  },
  {
   "cell_type": "code",
   "execution_count": 10,
   "id": "a60b0398-9fca-422c-888d-308da64c83f4",
   "metadata": {
    "tags": []
   },
   "outputs": [
    {
     "data": {
      "application/vnd.jupyter.widget-view+json": {
       "model_id": "2ffb0c770025426bb13516d4a4491229",
       "version_major": 2,
       "version_minor": 0
      },
      "text/plain": [
       "interactive(children=(FloatSlider(value=1.0, description='offset', max=2.0530625000000002), Output()), _dom_cl…"
      ]
     },
     "metadata": {},
     "output_type": "display_data"
    },
    {
     "data": {
      "text/plain": [
       "<function ipywidgets.widgets.interaction._InteractFactory.__call__.<locals>.<lambda>(*args, **kwargs)>"
      ]
     },
     "execution_count": 10,
     "metadata": {},
     "output_type": "execute_result"
    }
   ],
   "source": [
    "segmenter.visualize( audio = audio, prediction = prediction, label = label, audio_file_name = audio_file_name)"
   ]
  },
  {
   "cell_type": "markdown",
   "id": "35698f3f-979c-47f5-a7cc-a501fe2357dc",
   "metadata": {},
   "source": [
    "# Finetune WhisperSeg"
   ]
  },
  {
   "cell_type": "markdown",
   "id": "b8b70a50-78f1-4500-afe9-b849e8207f9a",
   "metadata": {},
   "source": [
    "We are going to finetune WhisperSeg on the zebra finch dataset released by the DAS paper. In this dataset the researchers have adopted a very different standard when segmenting the syllables. So the model \"vocal-segment-zebra-finch-whisper-large\" that was pretrained on Tomas's dataset will perform not well. Let's have a look:"
   ]
  },
  {
   "cell_type": "code",
   "execution_count": 11,
   "id": "020186f6-e78b-42b8-9760-b667fd5518d0",
   "metadata": {
    "tags": []
   },
   "outputs": [
    {
     "data": {
      "application/vnd.jupyter.widget-view+json": {
       "model_id": "4098fd07bf6a4fc69170ee10318ac285",
       "version_major": 2,
       "version_minor": 0
      },
      "text/plain": [
       "interactive(children=(FloatSlider(value=4.3, description='offset', max=8.6498125), Output()), _dom_classes=('w…"
      ]
     },
     "metadata": {},
     "output_type": "display_data"
    },
    {
     "data": {
      "text/plain": [
       "<function ipywidgets.widgets.interaction._InteractFactory.__call__.<locals>.<lambda>(*args, **kwargs)>"
      ]
     },
     "execution_count": 11,
     "metadata": {},
     "output_type": "execute_result"
    }
   ],
   "source": [
    "audio_file_name = \"data/DAS_zebra_finch/test/birdname_130519_113316.31.wav\"\n",
    "human_annotation_file_name = \"data/DAS_zebra_finch/test/birdname_130519_113316.31.csv\"\n",
    "audio, _ = librosa.load( audio_file_name, sr = 16000 )\n",
    "label_df = pd.read_csv( human_annotation_file_name )\n",
    "label = {\n",
    "    \"onset\":np.array(label_df[\"onset\"]),\n",
    "    \"offset\":np.array(label_df[\"offset\"])\n",
    "}\n",
    "prediction = segmenter.segment( audio )\n",
    "segmenter.visualize( audio = audio, prediction = prediction, label = label, audio_file_name = audio_file_name)"
   ]
  },
  {
   "cell_type": "markdown",
   "id": "555f2df2-eb14-41bc-8eb9-b295a2d7033c",
   "metadata": {},
   "source": [
    "There are quite a lot of False Positives! That's why we need to finetune WhisperSeg."
   ]
  },
  {
   "cell_type": "markdown",
   "id": "078345cb-5bf6-4ee3-8489-ee80bce0572d",
   "metadata": {},
   "source": [
    "## Dataset preparation\n",
    "**Before finetuning WhisperSeg, we need to first prepare the training dataset and the test dataset.**\n",
    "\n",
    "Take the training dataset as an example: \n",
    "* All training audio and annotation files should be placed in the same folder.\n",
    "* The audio file should have a format \".wav\" (lowercase),  and the annotation has a format \".csv\"\n",
    "* The names of the audio file and the corresponding annotation file should be matched. For example, if there is an audio file named \"XXXXX_bird_12345.wav\", the corresponding annotation file needs to be named as \"XXXXX_bird_12345.csv\"\n",
    "* Inside the annotation file, there will be two columns: \"onset\" and \"offset\". The unit of the value is second.\n",
    "* The .wav file can have various sampling rate. The model will resample them to 16kHz automatically.\n",
    "\n",
    "For the testing dataset, the requirement is the same.\n",
    "\n",
    "Please check the folder: data/DAS_zebra_finch/ for concrete examples."
   ]
  },
  {
   "cell_type": "markdown",
   "id": "d4171ca6-0b6b-4f98-bd06-8acbb24fcd3e",
   "metadata": {},
   "source": [
    "## Training\n",
    "\n",
    "Note: Before runing the following command, it is recommended to restart this jupyter notebook by Kernel -> Restart Kernel. This will release the GPU memory used in the previous cells."
   ]
  },
  {
   "cell_type": "markdown",
   "id": "b2e0c9ca-2485-432f-aaa8-1a3b409fd6c8",
   "metadata": {},
   "source": [
    "Explanation of the training parameters:\n",
    "* initial_model_path: The initail checkpoint of Wshiper, here we use the whisper model pretrained on Tomas's dataset\n",
    "* model_folder: the folder to save the trained checkpoint\n",
    "* result_folder: the folder to save some loging information and validation and test results\n",
    "* train_dataset_folder: the folder that contains all the paired training audio and annotation data as described above\n",
    "* test_dataset_folder: \n",
    "* warmup_steps: the learning rate will increase from 0 linearly to 1e-6 within warmup steps\n",
    "* save_every: save the checkpoint after save_every training steps\n",
    "* max_num_iterations: the maximum number of training steps before the training finishes.\n",
    "* batch_size: Training WhisperSeg requires around 40 GB GPU RAM if we use a batch size of 4. For smaller GPU, please try batch size 2 or 1.\n",
    "\n",
    "Since the DAS_zebra_finch is a very small dataset, we finetune WhisperSeg for 1000 steps, and set up the warmup step to 200. \n",
    "We do not create validation set, and use all the training set to train the model until the max_num_iterations is reached, and we only keep the model checkpont at the max_num_iterations. Empirically this works very stable."
   ]
  },
  {
   "cell_type": "code",
   "execution_count": 1,
   "id": "3a24e0ee-3d98-499a-bf18-8b1f34520f95",
   "metadata": {
    "tags": []
   },
   "outputs": [
    {
     "name": "stdout",
     "output_type": "stream",
     "text": [
      "/home/nianlong/miniconda3/envs/syllable_segment/lib/python3.9/site-packages/transformers/optimization.py:306: FutureWarning: This implementation of AdamW is deprecated and will be removed in a future version. Use the PyTorch implementation torch.optim.AdamW instead, or set `no_deprecation_warning=True` to disable this warning\n",
      "  warnings.warn(\n",
      "  0%|                                                    | 0/13 [00:00<?, ?it/s]/home/nianlong/miniconda3/envs/syllable_segment/lib/python3.9/site-packages/torch/optim/lr_scheduler.py:138: UserWarning: Detected call of `lr_scheduler.step()` before `optimizer.step()`. In PyTorch 1.1.0 and later, you should call them in the opposite order: `optimizer.step()` before `lr_scheduler.step()`.  Failure to do this will result in PyTorch skipping the first value of the learning rate schedule. See more details at https://pytorch.org/docs/stable/optim.html#how-to-adjust-learning-rate\n",
      "  warnings.warn(\"Detected call of `lr_scheduler.step()` before `optimizer.step()`. \"\n",
      "100%|███████████████████████████████████████████| 13/13 [00:09<00:00,  1.30it/s]\n",
      "100%|███████████████████████████████████████████| 13/13 [00:09<00:00,  1.37it/s]\n",
      "100%|███████████████████████████████████████████| 13/13 [00:09<00:00,  1.36it/s]\n",
      "100%|███████████████████████████████████████████| 13/13 [00:09<00:00,  1.40it/s]\n",
      "100%|███████████████████████████████████████████| 13/13 [00:09<00:00,  1.36it/s]\n",
      "100%|███████████████████████████████████████████| 13/13 [00:09<00:00,  1.38it/s]\n",
      "100%|███████████████████████████████████████████| 13/13 [00:09<00:00,  1.37it/s]\n",
      " 62%|███████████████████████████                 | 8/13 [00:05<00:03,  1.41it/s]Epoch: 7, current_batch: 100, learning rate: 0.000000, Loss: 1.1979\n",
      "100%|███████████████████████████████████████████| 13/13 [00:09<00:00,  1.36it/s]\n",
      "100%|███████████████████████████████████████████| 13/13 [00:09<00:00,  1.34it/s]\n",
      "100%|███████████████████████████████████████████| 13/13 [00:09<00:00,  1.36it/s]\n",
      "100%|███████████████████████████████████████████| 13/13 [00:10<00:00,  1.28it/s]\n",
      "100%|███████████████████████████████████████████| 13/13 [00:09<00:00,  1.37it/s]\n",
      "100%|███████████████████████████████████████████| 13/13 [00:09<00:00,  1.37it/s]\n",
      "100%|███████████████████████████████████████████| 13/13 [00:09<00:00,  1.36it/s]\n",
      "100%|███████████████████████████████████████████| 13/13 [00:09<00:00,  1.36it/s]\n",
      " 31%|█████████████▌                              | 4/13 [00:03<00:06,  1.34it/s]Epoch: 15, current_batch: 200, learning rate: 0.000001, Loss: 0.3026\n",
      "100%|███████████████████████████████████████████| 13/13 [00:09<00:00,  1.37it/s]\n",
      "100%|███████████████████████████████████████████| 13/13 [00:09<00:00,  1.37it/s]\n",
      "100%|███████████████████████████████████████████| 13/13 [00:09<00:00,  1.35it/s]\n",
      "100%|███████████████████████████████████████████| 13/13 [00:09<00:00,  1.36it/s]\n",
      "100%|███████████████████████████████████████████| 13/13 [00:09<00:00,  1.36it/s]\n",
      "100%|███████████████████████████████████████████| 13/13 [00:09<00:00,  1.36it/s]\n",
      "100%|███████████████████████████████████████████| 13/13 [00:09<00:00,  1.37it/s]\n",
      "100%|███████████████████████████████████████████| 13/13 [00:09<00:00,  1.38it/s]\n",
      "  0%|                                                    | 0/13 [00:00<?, ?it/s]Epoch: 23, current_batch: 300, learning rate: 0.000001, Loss: 0.2076\n",
      "100%|███████████████████████████████████████████| 13/13 [00:09<00:00,  1.37it/s]\n",
      "100%|███████████████████████████████████████████| 13/13 [00:09<00:00,  1.37it/s]\n",
      "100%|███████████████████████████████████████████| 13/13 [00:09<00:00,  1.37it/s]\n",
      "100%|███████████████████████████████████████████| 13/13 [00:09<00:00,  1.37it/s]\n",
      "100%|███████████████████████████████████████████| 13/13 [00:09<00:00,  1.37it/s]\n",
      "100%|███████████████████████████████████████████| 13/13 [00:09<00:00,  1.37it/s]\n",
      "100%|███████████████████████████████████████████| 13/13 [00:09<00:00,  1.36it/s]\n",
      " 69%|██████████████████████████████▍             | 9/13 [00:06<00:02,  1.41it/s]Epoch: 30, current_batch: 400, learning rate: 0.000001, Loss: 0.1776\n",
      "100%|███████████████████████████████████████████| 13/13 [00:09<00:00,  1.36it/s]\n",
      "100%|███████████████████████████████████████████| 13/13 [00:09<00:00,  1.36it/s]\n",
      "100%|███████████████████████████████████████████| 13/13 [00:09<00:00,  1.36it/s]\n",
      "100%|███████████████████████████████████████████| 13/13 [00:09<00:00,  1.36it/s]\n",
      "100%|███████████████████████████████████████████| 13/13 [00:09<00:00,  1.37it/s]\n",
      "100%|███████████████████████████████████████████| 13/13 [00:09<00:00,  1.36it/s]\n",
      "100%|███████████████████████████████████████████| 13/13 [00:09<00:00,  1.37it/s]\n",
      "100%|███████████████████████████████████████████| 13/13 [00:09<00:00,  1.37it/s]\n",
      " 38%|████████████████▉                           | 5/13 [00:03<00:05,  1.37it/s]Epoch: 38, current_batch: 500, learning rate: 0.000001, Loss: 0.1555\n",
      "100%|███████████████████████████████████████████| 13/13 [00:09<00:00,  1.37it/s]\n",
      "100%|███████████████████████████████████████████| 13/13 [00:09<00:00,  1.37it/s]\n",
      "100%|███████████████████████████████████████████| 13/13 [00:09<00:00,  1.37it/s]\n",
      "100%|███████████████████████████████████████████| 13/13 [00:09<00:00,  1.36it/s]\n",
      "100%|███████████████████████████████████████████| 13/13 [00:09<00:00,  1.37it/s]\n",
      "100%|███████████████████████████████████████████| 13/13 [00:09<00:00,  1.36it/s]\n",
      "100%|███████████████████████████████████████████| 13/13 [00:09<00:00,  1.36it/s]\n",
      "100%|███████████████████████████████████████████| 13/13 [00:09<00:00,  1.36it/s]\n",
      "  8%|███▍                                        | 1/13 [00:01<00:12,  1.02s/it]Epoch: 46, current_batch: 600, learning rate: 0.000000, Loss: 0.1450\n",
      "100%|███████████████████████████████████████████| 13/13 [00:09<00:00,  1.36it/s]\n",
      "100%|███████████████████████████████████████████| 13/13 [00:09<00:00,  1.37it/s]\n",
      "100%|███████████████████████████████████████████| 13/13 [00:09<00:00,  1.36it/s]\n",
      "100%|███████████████████████████████████████████| 13/13 [00:09<00:00,  1.37it/s]\n",
      "100%|███████████████████████████████████████████| 13/13 [00:09<00:00,  1.37it/s]\n",
      "100%|███████████████████████████████████████████| 13/13 [00:09<00:00,  1.36it/s]\n",
      "100%|███████████████████████████████████████████| 13/13 [00:09<00:00,  1.37it/s]\n",
      " 77%|█████████████████████████████████          | 10/13 [00:07<00:02,  1.43it/s]Epoch: 53, current_batch: 700, learning rate: 0.000000, Loss: 0.1420\n",
      "100%|███████████████████████████████████████████| 13/13 [00:09<00:00,  1.37it/s]\n",
      "100%|███████████████████████████████████████████| 13/13 [00:09<00:00,  1.37it/s]\n",
      "100%|███████████████████████████████████████████| 13/13 [00:09<00:00,  1.37it/s]\n",
      "100%|███████████████████████████████████████████| 13/13 [00:09<00:00,  1.35it/s]\n",
      "100%|███████████████████████████████████████████| 13/13 [00:09<00:00,  1.36it/s]\n",
      "100%|███████████████████████████████████████████| 13/13 [00:09<00:00,  1.37it/s]\n",
      "100%|███████████████████████████████████████████| 13/13 [00:09<00:00,  1.38it/s]\n",
      "100%|███████████████████████████████████████████| 13/13 [00:09<00:00,  1.37it/s]\n",
      " 46%|████████████████████▎                       | 6/13 [00:04<00:05,  1.39it/s]Epoch: 61, current_batch: 800, learning rate: 0.000000, Loss: 0.1304\n",
      "100%|███████████████████████████████████████████| 13/13 [00:09<00:00,  1.36it/s]\n",
      "100%|███████████████████████████████████████████| 13/13 [00:09<00:00,  1.36it/s]\n",
      "100%|███████████████████████████████████████████| 13/13 [00:09<00:00,  1.36it/s]\n",
      "100%|███████████████████████████████████████████| 13/13 [00:09<00:00,  1.37it/s]\n",
      "100%|███████████████████████████████████████████| 13/13 [00:09<00:00,  1.36it/s]\n",
      "100%|███████████████████████████████████████████| 13/13 [00:09<00:00,  1.36it/s]\n",
      "100%|███████████████████████████████████████████| 13/13 [00:09<00:00,  1.36it/s]\n",
      "100%|███████████████████████████████████████████| 13/13 [00:09<00:00,  1.37it/s]\n",
      " 15%|██████▊                                     | 2/13 [00:01<00:09,  1.20it/s]Epoch: 69, current_batch: 900, learning rate: 0.000000, Loss: 0.1255\n",
      "100%|███████████████████████████████████████████| 13/13 [00:09<00:00,  1.36it/s]\n",
      "100%|███████████████████████████████████████████| 13/13 [00:09<00:00,  1.36it/s]\n",
      "100%|███████████████████████████████████████████| 13/13 [00:09<00:00,  1.36it/s]\n",
      "100%|███████████████████████████████████████████| 13/13 [00:09<00:00,  1.37it/s]\n",
      "100%|███████████████████████████████████████████| 13/13 [00:09<00:00,  1.37it/s]\n",
      "100%|███████████████████████████████████████████| 13/13 [00:09<00:00,  1.38it/s]\n",
      "100%|███████████████████████████████████████████| 13/13 [00:09<00:00,  1.36it/s]\n",
      " 85%|████████████████████████████████████▍      | 11/13 [00:07<00:01,  1.42it/s]Epoch: 76, current_batch: 1000, learning rate: 0.000000, Loss: 0.1241\n",
      " 85%|████████████████████████████████████▍      | 11/13 [00:14<00:02,  1.33s/it]\n",
      "The best checkpoint on validation set is: model/DAS_zebra_finch/checkpoint-1000,\n",
      "Reporting test results ...\n",
      "100%|█████████████████████████████████████████████| 2/2 [00:04<00:00,  2.30s/it]\n",
      "Test performance: f1 score: 0.9333\n",
      "Removing sub-optimal checkpoints ...\n",
      "All Done!\n"
     ]
    }
   ],
   "source": [
    "!python train.py -initial_model_path nccratliri/vocal-segment-zebra-finch-whisper-large -model_folder model/DAS_zebra_finch -result_folder result/DAS_zebra_finch -train_dataset_folder data/DAS_zebra_finch/train -test_dataset_folder data/DAS_zebra_finch/test -warmup_steps 200 -save_every 1000 -max_num_iterations 1000 -batch_size 4\n"
   ]
  },
  {
   "cell_type": "markdown",
   "id": "5b381b9f-6050-4f31-afaa-add06cd8f548",
   "metadata": {},
   "source": [
    "Let's use the finetuned WhisperSeg to segment the audio from the DAS_zebra_finch test set again."
   ]
  },
  {
   "cell_type": "code",
   "execution_count": 2,
   "id": "5c6a3ba0-f564-4c67-bc0d-8546a3ffd685",
   "metadata": {
    "tags": []
   },
   "outputs": [
    {
     "data": {
      "application/vnd.jupyter.widget-view+json": {
       "model_id": "2595f336f5744615b4ba63d56e34e6b8",
       "version_major": 2,
       "version_minor": 0
      },
      "text/plain": [
       "interactive(children=(FloatSlider(value=4.3, description='offset', max=8.6498125), Output()), _dom_classes=('w…"
      ]
     },
     "metadata": {},
     "output_type": "display_data"
    },
    {
     "data": {
      "text/plain": [
       "<function ipywidgets.widgets.interaction._InteractFactory.__call__.<locals>.<lambda>(*args, **kwargs)>"
      ]
     },
     "execution_count": 2,
     "metadata": {},
     "output_type": "execute_result"
    }
   ],
   "source": [
    "from model import WhisperSegmenter\n",
    "import librosa\n",
    "import pandas as pd\n",
    "import numpy as np\n",
    "\n",
    "segmenter = WhisperSegmenter(  model_path = \"model/DAS_zebra_finch/checkpoint-1000\", \n",
    "                        device = \"cuda\")\n",
    "\n",
    "audio_file_name = \"data/DAS_zebra_finch/test/birdname_130519_113316.31.wav\"\n",
    "human_annotation_file_name = \"data/DAS_zebra_finch/test/birdname_130519_113316.31.csv\"\n",
    "audio, _ = librosa.load( audio_file_name, sr = 16000 )\n",
    "label_df = pd.read_csv( human_annotation_file_name )\n",
    "label = {\n",
    "    \"onset\":np.array(label_df[\"onset\"]),\n",
    "    \"offset\":np.array(label_df[\"offset\"])\n",
    "}\n",
    "prediction = segmenter.segment( audio )\n",
    "segmenter.visualize( audio = audio, prediction = prediction, label = label, audio_file_name = audio_file_name)"
   ]
  },
  {
   "cell_type": "markdown",
   "id": "ea2730a6-5d28-477c-b742-0a6d4e0da041",
   "metadata": {},
   "source": [
    "Therefore, WhisperSeg does perform better after finetuning!"
   ]
  },
  {
   "cell_type": "markdown",
   "id": "90443bff-a839-44e7-b8d6-65c2e7a2f6e2",
   "metadata": {
    "tags": []
   },
   "source": [
    "# Speed Up Inference with ctranslate2 - WhisperSegmenterFast\n",
    "\n",
    "The environment.yml has been updated due to the adding of the ctranslate2 package. \n",
    "\n",
    "**Running the code below does not rely on the previous codes in this notebook. One can restart the kernel before run the following code, to release some GPU usage.**"
   ]
  },
  {
   "cell_type": "markdown",
   "id": "ca146d0c-d2cc-400d-b8c0-b8484b28f13b",
   "metadata": {},
   "source": [
    "## convert the huggingface Whisper model to the CTranslate2 model, and store the configuration files of the tokenizer and feature-extractor"
   ]
  },
  {
   "cell_type": "markdown",
   "id": "efe8b83e-fb1c-4379-8478-439f6a5f1daa",
   "metadata": {
    "tags": []
   },
   "source": [
    "Note: The following cell only needs to be run once."
   ]
  },
  {
   "cell_type": "code",
   "execution_count": 2,
   "id": "9b0c6df5-5d9b-4ed3-87b0-8ecfbc49d04e",
   "metadata": {
    "tags": []
   },
   "outputs": [
    {
     "data": {
      "text/plain": [
       "('model/vocal-segment-zebra-finch-whisper-large-ct2/hf_model/tokenizer_config.json',\n",
       " 'model/vocal-segment-zebra-finch-whisper-large-ct2/hf_model/special_tokens_map.json',\n",
       " 'model/vocal-segment-zebra-finch-whisper-large-ct2/hf_model/vocab.json',\n",
       " 'model/vocal-segment-zebra-finch-whisper-large-ct2/hf_model/merges.txt',\n",
       " 'model/vocal-segment-zebra-finch-whisper-large-ct2/hf_model/normalizer.json',\n",
       " 'model/vocal-segment-zebra-finch-whisper-large-ct2/hf_model/added_tokens.json')"
      ]
     },
     "execution_count": 2,
     "metadata": {},
     "output_type": "execute_result"
    }
   ],
   "source": [
    "from huggingface_hub import hf_hub_download\n",
    "from transformers import WhisperForConditionalGeneration, WhisperFeatureExtractor, WhisperTokenizer\n",
    "import os\n",
    "## If you have trained model on new dataset, replace this hf_model_path's value with the path to the newly saved checkpoint\n",
    "hf_model_path = \"nccratliri/vocal-segment-zebra-finch-whisper-large\"\n",
    "## The path to the folder where the converted ctranslate2 model will be saved. \n",
    "## In the meantime, the configuration files for Tokenizer and FeatureExtractors will also be copied to this folder\n",
    "ct2_model_path = \"model/vocal-segment-zebra-finch-whisper-large-ct2\"\n",
    "\n",
    "assert not os.path.exists(ct2_model_path)\n",
    "\n",
    "os.system( \"ct2-transformers-converter --model %s --output_dir %s\"%( hf_model_path, ct2_model_path ) )\n",
    "## copy the configuration file of the original huggingface model, because it contains some useful hyperparameters\n",
    "hf_hub_download(repo_id=hf_model_path, filename=\"config.json\", local_dir = ct2_model_path+\"/hf_model/\")\n",
    "WhisperFeatureExtractor.from_pretrained( hf_model_path ).save_pretrained( ct2_model_path+\"/hf_model/\" )\n",
    "WhisperTokenizer.from_pretrained(hf_model_path, language = \"english\" ).save_pretrained( ct2_model_path+\"/hf_model/\" )"
   ]
  },
  {
   "cell_type": "markdown",
   "id": "db220c2a-6571-4652-b96d-5a8064a7424d",
   "metadata": {},
   "source": [
    "## Use the CTranslate2 Converted Model"
   ]
  },
  {
   "cell_type": "code",
   "execution_count": 12,
   "id": "f756d192-d9a7-411c-966b-f05f4e20caf3",
   "metadata": {
    "tags": []
   },
   "outputs": [],
   "source": [
    "from model import WhisperSegmenterFast\n",
    "import librosa\n",
    "import pandas as pd\n",
    "import numpy as np\n",
    "import time\n",
    "import os\n",
    "from tqdm import tqdm"
   ]
  },
  {
   "cell_type": "code",
   "execution_count": 13,
   "id": "d365f5ab-9d44-4419-94ff-7e19e11d6036",
   "metadata": {
    "tags": []
   },
   "outputs": [],
   "source": [
    "segmenter_fast = WhisperSegmenterFast( \"model/vocal-segment-zebra-finch-whisper-large-ct2\", device=\"cuda\" )"
   ]
  },
  {
   "cell_type": "code",
   "execution_count": 14,
   "id": "98b2bd84-1540-45f4-8ac5-1c9d5401292c",
   "metadata": {
    "tags": []
   },
   "outputs": [
    {
     "data": {
      "application/vnd.jupyter.widget-view+json": {
       "model_id": "1d5b034aaf9b473fa1e0ddc76d5d4394",
       "version_major": 2,
       "version_minor": 0
      },
      "text/plain": [
       "interactive(children=(FloatSlider(value=1.0, description='offset', max=2.0530625000000002), Output()), _dom_cl…"
      ]
     },
     "metadata": {},
     "output_type": "display_data"
    },
    {
     "name": "stdout",
     "output_type": "stream",
     "text": [
      "Audio Length: 7.053063 s\n",
      "Segmentation Time: 0.794143 s\n"
     ]
    }
   ],
   "source": [
    "audio_file_name = \"data/R3406_035/test/R3406_40911.54676404_1_3_15_11_16.wav\"\n",
    "human_annotation_file_name = \"data/R3406_035/test/R3406_40911.54676404_1_3_15_11_16.csv\"\n",
    "audio, _ = librosa.load( audio_file_name, sr = 16000 )\n",
    "label_df = pd.read_csv( human_annotation_file_name )\n",
    "label = {\n",
    "    \"onset\":np.array(label_df[\"onset\"]),\n",
    "    \"offset\":np.array(label_df[\"offset\"])\n",
    "}\n",
    "\n",
    "tic = time.time()\n",
    "prediction = segmenter_fast.segment( audio )\n",
    "tac = time.time()\n",
    "\n",
    "segmenter_fast.visualize( audio = audio, prediction = prediction, label = label, audio_file_name = audio_file_name)\n",
    "\n",
    "print(\"Audio Length: %f s\"%(len(audio)/16000))\n",
    "print(\"Segmentation Time: %f s\"%(tac - tic))"
   ]
  },
  {
   "cell_type": "code",
   "execution_count": null,
   "id": "0c3e3de4-4c3f-4d57-986b-b6583cd58ba3",
   "metadata": {},
   "outputs": [],
   "source": []
  }
 ],
 "metadata": {
  "kernelspec": {
   "display_name": "Python 3 (ipykernel)",
   "language": "python",
   "name": "python3"
  },
  "language_info": {
   "codemirror_mode": {
    "name": "ipython",
    "version": 3
   },
   "file_extension": ".py",
   "mimetype": "text/x-python",
   "name": "python",
   "nbconvert_exporter": "python",
   "pygments_lexer": "ipython3",
   "version": "3.9.16"
  }
 },
 "nbformat": 4,
 "nbformat_minor": 5
}
