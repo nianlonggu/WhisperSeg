{
 "cells": [
  {
   "cell_type": "code",
   "execution_count": 1,
   "id": "30c62427-2890-4773-8d3f-39391096e097",
   "metadata": {},
   "outputs": [],
   "source": [
    "from model import WhisperSegmenterFast, WhisperSegmenter\n",
    "import librosa\n",
    "from audio_utils import SpecViewer\n",
    "import pandas as pd\n",
    "import json"
   ]
  },
  {
   "cell_type": "code",
   "execution_count": 2,
   "id": "3a17abcf-166a-442e-947c-45188ba45cbf",
   "metadata": {},
   "outputs": [],
   "source": [
    "### SpecViewer is a customized class for interactive spectrogram viewing\n",
    "spec_viewer = SpecViewer()"
   ]
  },
  {
   "cell_type": "code",
   "execution_count": 3,
   "id": "cceaaa07-0db0-4c1d-b895-b6feb65005a8",
   "metadata": {},
   "outputs": [
    {
     "name": "stderr",
     "output_type": "stream",
     "text": [
      "Special tokens have been added in the vocabulary, make sure the associated word embeddings are fine-tuned or trained.\n"
     ]
    }
   ],
   "source": [
    "segmenter = WhisperSegmenterFast( \"model/whisperseg-large-trial2/final_checkpoint_ct2/\", device=\"cuda\" )"
   ]
  },
  {
   "cell_type": "code",
   "execution_count": 4,
   "id": "afb0dade-795a-494f-b655-200e6805d7b1",
   "metadata": {},
   "outputs": [],
   "source": [
    "sr = 32000\n",
    "spec_time_step = 0.0025   \n",
    "\n",
    "audio_fname = \"data/datasets/trial2/test/R3280_40869.3774402_11_22_10_29_4.wav\"\n",
    "csv_fname = audio_fname[:-4] + \".json\"\n",
    "\n",
    "audio, _ = librosa.load( audio_fname, sr = sr )\n",
    "label = json.load(open( csv_fname ))"
   ]
  },
  {
   "cell_type": "code",
   "execution_count": 5,
   "id": "acfcb70d-d017-467a-9a65-7d305717e6aa",
   "metadata": {
    "scrolled": true
   },
   "outputs": [
    {
     "name": "stdout",
     "output_type": "stream",
     "text": [
      "{'onset': [0.593, 1.067, 1.533, 1.662, 2.458, 3.418, 4.205, 6.033, 7.44, 9.358, 10.495, 11.588, 11.825, 12.068, 12.298, 12.5, 12.525, 12.884, 13.115, 13.377, 13.612, 13.847, 14.362, 14.617], 'offset': [0.692, 1.162, 1.615, 1.843, 2.652, 3.518, 4.322, 6.155, 7.582, 9.493, 10.612, 11.802, 12.018, 12.267, 12.495, 12.505, 12.728, 13.089, 13.32, 13.588, 13.817, 14.06, 14.568, 14.823], 'cluster': ['Unknown', 'Unknown', 'Unknown', 'har602', 'har602', 'Unknown', 'Unknown', 'Unknown', 'Unknown', 'Unknown', 'Unknown', 'br', 'mod', 'br', 'mod', 'har688', 'har688', 'br', 'mod', 'br', 'mod', 'har688', 'mod', 'har688']}\n"
     ]
    }
   ],
   "source": [
    "## Note if spec_time_step is not provided, a default value will be used by the model.\n",
    "prediction = segmenter.segment(  audio, sr = sr, spec_time_step = spec_time_step   )\n",
    "print(prediction)"
   ]
  },
  {
   "cell_type": "code",
   "execution_count": 6,
   "id": "1de9280c-9f4a-407e-8ddc-7b6cce36b1fe",
   "metadata": {},
   "outputs": [
    {
     "data": {
      "application/vnd.jupyter.widget-view+json": {
       "model_id": "d0079b18fa7145b7a2dbdcc127e1daad",
       "version_major": 2,
       "version_minor": 0
      },
      "text/plain": [
       "interactive(children=(FloatSlider(value=4.4, description='offset', max=8.80546875, step=0.4), Output()), _dom_…"
      ]
     },
     "metadata": {},
     "output_type": "display_data"
    },
    {
     "data": {
      "text/plain": [
       "<function ipywidgets.widgets.interaction._InteractFactory.__call__.<locals>.<lambda>(*args, **kwargs)>"
      ]
     },
     "execution_count": 6,
     "metadata": {},
     "output_type": "execute_result"
    }
   ],
   "source": [
    "spec_viewer.visualize( audio = audio, sr = sr, prediction = prediction, label = label,\n",
    "                       window_size=8, precision_bits=1\n",
    "                     )"
   ]
  },
  {
   "cell_type": "code",
   "execution_count": 7,
   "id": "17935832-4e34-479e-9c84-8c17cf4a8548",
   "metadata": {},
   "outputs": [
    {
     "name": "stdout",
     "output_type": "stream",
     "text": [
      "{'onset': [0.593, 1.067, 1.533, 1.662, 2.458, 3.418, 4.205, 6.033, 7.44, 9.358, 10.495, 11.588, 11.825, 12.068, 12.298, 12.5, 12.525, 12.884, 13.115, 13.377, 13.612, 13.847, 14.362, 14.617], 'offset': [0.69, 1.16, 1.613, 1.843, 2.652, 3.518, 4.322, 6.155, 7.582, 9.493, 10.612, 11.802, 12.018, 12.267, 12.495, 12.505, 12.728, 13.089, 13.32, 13.588, 13.817, 14.06, 14.568, 14.823], 'cluster': ['Unknown', 'Unknown', 'Unknown', 'har688', 'har688', 'Unknown', 'Unknown', 'Unknown', 'Unknown', 'Unknown', 'Unknown', 'br', 'mod', 'br', 'mod', 'har688', 'har688', 'br', 'mod', 'br', 'mod', 'har688', 'mod', 'har688']}\n"
     ]
    }
   ],
   "source": [
    "## Note if spec_time_step is not provided, a default value will be used by the model.\n",
    "prediction = segmenter.segment(  audio, sr = sr, spec_time_step = spec_time_step, \n",
    "                                 suppress_clusters=[ \"har602\" ]  )\n",
    "print(prediction)"
   ]
  },
  {
   "cell_type": "code",
   "execution_count": 8,
   "id": "b70e3e38-f68e-4055-a7e9-118f71534949",
   "metadata": {},
   "outputs": [
    {
     "data": {
      "application/vnd.jupyter.widget-view+json": {
       "model_id": "e5e848ccdc6d4cd7914fd36813c5ac09",
       "version_major": 2,
       "version_minor": 0
      },
      "text/plain": [
       "interactive(children=(FloatSlider(value=4.4, description='offset', max=8.80546875, step=0.4), Output()), _dom_…"
      ]
     },
     "metadata": {},
     "output_type": "display_data"
    },
    {
     "data": {
      "text/plain": [
       "<function ipywidgets.widgets.interaction._InteractFactory.__call__.<locals>.<lambda>(*args, **kwargs)>"
      ]
     },
     "execution_count": 8,
     "metadata": {},
     "output_type": "execute_result"
    }
   ],
   "source": [
    "spec_viewer.visualize( audio = audio, sr = sr, prediction = prediction, label = label,\n",
    "                       window_size=8, precision_bits=1\n",
    "                     )"
   ]
  },
  {
   "cell_type": "code",
   "execution_count": null,
   "id": "ea7f46dc-f260-4b4d-83a9-6524c135a7f8",
   "metadata": {},
   "outputs": [],
   "source": []
  }
 ],
 "metadata": {
  "kernelspec": {
   "display_name": "Python [conda env:wseg]",
   "language": "python",
   "name": "conda-env-wseg-py"
  },
  "language_info": {
   "codemirror_mode": {
    "name": "ipython",
    "version": 3
   },
   "file_extension": ".py",
   "mimetype": "text/x-python",
   "name": "python",
   "nbconvert_exporter": "python",
   "pygments_lexer": "ipython3",
   "version": "3.10.14"
  }
 },
 "nbformat": 4,
 "nbformat_minor": 5
}
