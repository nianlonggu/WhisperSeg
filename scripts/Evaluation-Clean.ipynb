{
 "cells": [
  {
   "cell_type": "code",
   "execution_count": 1,
   "id": "49ffdfb7-9d76-4a60-a358-d706bc599b7b",
   "metadata": {
    "tags": []
   },
   "outputs": [],
   "source": [
    "import sys, os\n",
    "# os.environ[\"CUDA_VISIBLE_DEVICES\"] = \"1\"\n",
    "sys.path.insert(0, os.path.dirname(os.getcwd()))"
   ]
  },
  {
   "cell_type": "code",
   "execution_count": 2,
   "id": "87dc75cb-300d-4dc0-8fcc-5b6bb8955700",
   "metadata": {},
   "outputs": [],
   "source": [
    "from audio_utils import SpecViewer\n",
    "import librosa\n",
    "import numpy as np\n",
    "from glob import glob\n",
    "import json\n",
    "from model import MultiChannelWhisperSeg"
   ]
  },
  {
   "cell_type": "code",
   "execution_count": 3,
   "id": "da5e6858-8b29-49dc-9c11-4e55f3592742",
   "metadata": {},
   "outputs": [
    {
     "name": "stderr",
     "output_type": "stream",
     "text": [
      "Special tokens have been added in the vocabulary, make sure the associated word embeddings are fine-tuned or trained.\n"
     ]
    }
   ],
   "source": [
    "mc_segmenter = MultiChannelWhisperSeg( \"nccratliri/mc-whisperseg-zebra-finch-ct2-v1.0\", device=\"cuda\" )"
   ]
  },
  {
   "cell_type": "code",
   "execution_count": 4,
   "id": "2c38bf38-ecec-4101-aaa0-0010ee6535e2",
   "metadata": {},
   "outputs": [],
   "source": [
    "spec_viewer = SpecViewer()"
   ]
  },
  {
   "cell_type": "code",
   "execution_count": 5,
   "id": "53bddb76-0f63-4583-8157-f40e98a7ed3e",
   "metadata": {},
   "outputs": [],
   "source": [
    "sr = 16000\n",
    "base_fname = \"../data/example_subset/Zebra_finch/test/BP_2021-05-28_15-35-42_115696_0280000\"\n",
    "\n",
    "radio_fname_list = [ \n",
    "     base_fname + \"_radio1.wav\",\n",
    "     base_fname + \"_radio2.wav\"\n",
    "]\n",
    "mic_fname_list = [\n",
    "     base_fname + \"_daq1.wav\"\n",
    "]"
   ]
  },
  {
   "cell_type": "code",
   "execution_count": 6,
   "id": "bea36927-6228-45fc-9524-1e18d830d116",
   "metadata": {},
   "outputs": [],
   "source": [
    "radio_channels = [ librosa.load( fname, sr = sr )[0] for fname in radio_fname_list ]\n",
    "mic_channels = [ librosa.load( fname, sr = sr )[0] for fname in mic_fname_list ]"
   ]
  },
  {
   "cell_type": "code",
   "execution_count": 7,
   "id": "776558e6-7ab3-4cbf-85b4-8976cc7ec4bb",
   "metadata": {},
   "outputs": [],
   "source": [
    "label = json.load( open( base_fname + \"_radio1.json\" ) )"
   ]
  },
  {
   "cell_type": "code",
   "execution_count": 8,
   "id": "81627a96-3b70-4dc0-b626-08b35139efcc",
   "metadata": {},
   "outputs": [
    {
     "data": {
      "application/vnd.jupyter.widget-view+json": {
       "model_id": "bb3954fa4d2b481da8093a87f64c46ed",
       "version_major": 2,
       "version_minor": 0
      },
      "text/plain": [
       "interactive(children=(FloatSlider(value=208.375, description='offset', max=416.9304375, step=0.125), Output())…"
      ]
     },
     "metadata": {},
     "output_type": "display_data"
    },
    {
     "data": {
      "text/plain": [
       "<function ipywidgets.widgets.interaction._InteractFactory.__call__.<locals>.<lambda>(*args, **kwargs)>"
      ]
     },
     "execution_count": 8,
     "metadata": {},
     "output_type": "execute_result"
    }
   ],
   "source": [
    "spec_viewer.visualize(\n",
    "    np.flip(np.asarray([ radio_channels[0], radio_channels[1], mic_channels[0] ]), axis = 0),\n",
    "    sr = sr,\n",
    "    label=label,\n",
    "    window_size = 2.5\n",
    ")"
   ]
  },
  {
   "cell_type": "code",
   "execution_count": 9,
   "id": "e9559bdc-09eb-4a3a-a407-41a1cb806c39",
   "metadata": {},
   "outputs": [
    {
     "name": "stdout",
     "output_type": "stream",
     "text": [
      "Segmenting radio channel 0 [■■■■■■■■■■■■■■■■■■■■■■■■■■■■■■■■■■■■■■■■■■■■■■■■■■] 100.00%\n",
      "Segmenting radio channel 1 [■■■■■■■■■■■■■■■■■■■■■■■■■■■■■■■■■■■■■■■■■■■■■■■■■■] 100.00%\n"
     ]
    }
   ],
   "source": [
    "predictions = mc_segmenter.segment( radio_channels, mic_channels, sr,\n",
    "                      min_frequency = 0,\n",
    "                      spec_time_step = 0.0025,\n",
    "                      min_segment_length = 0.005,\n",
    "                      eps = 0.02,\n",
    "                      num_trials = 3\n",
    "                    )"
   ]
  },
  {
   "cell_type": "code",
   "execution_count": 10,
   "id": "52cfef5a-0104-410b-83f0-2ba43e65730d",
   "metadata": {},
   "outputs": [
    {
     "data": {
      "application/vnd.jupyter.widget-view+json": {
       "model_id": "70896bcf61954257b7830ddf44f0ad6f",
       "version_major": 2,
       "version_minor": 0
      },
      "text/plain": [
       "interactive(children=(FloatSlider(value=208.375, description='offset', max=416.9304375, step=0.125), Output())…"
      ]
     },
     "metadata": {},
     "output_type": "display_data"
    },
    {
     "data": {
      "text/plain": [
       "<function ipywidgets.widgets.interaction._InteractFactory.__call__.<locals>.<lambda>(*args, **kwargs)>"
      ]
     },
     "execution_count": 10,
     "metadata": {},
     "output_type": "execute_result"
    }
   ],
   "source": [
    "spec_viewer.visualize(\n",
    "    np.flip(np.asarray([ radio_channels[0], radio_channels[1], mic_channels[0] ]), axis = 0),\n",
    "    sr = sr,\n",
    "    label=label,\n",
    "    prediction=predictions[0],\n",
    "    window_size = 2.5\n",
    ")"
   ]
  },
  {
   "cell_type": "code",
   "execution_count": null,
   "id": "d35e35ec-df0d-4c9c-a84d-19e17b9874ad",
   "metadata": {},
   "outputs": [],
   "source": []
  }
 ],
 "metadata": {
  "kernelspec": {
   "display_name": "Python [conda env:wseg]",
   "language": "python",
   "name": "conda-env-wseg-py"
  },
  "language_info": {
   "codemirror_mode": {
    "name": "ipython",
    "version": 3
   },
   "file_extension": ".py",
   "mimetype": "text/x-python",
   "name": "python",
   "nbconvert_exporter": "python",
   "pygments_lexer": "ipython3",
   "version": "3.10.14"
  }
 },
 "nbformat": 4,
 "nbformat_minor": 5
}
