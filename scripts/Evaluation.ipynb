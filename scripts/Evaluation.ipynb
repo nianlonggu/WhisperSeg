{
 "cells": [
  {
   "cell_type": "code",
   "execution_count": 12,
   "id": "49ffdfb7-9d76-4a60-a358-d706bc599b7b",
   "metadata": {
    "tags": []
   },
   "outputs": [],
   "source": [
    "import sys, os\n",
    "sys.path.insert(0, os.path.dirname(os.getcwd()))"
   ]
  },
  {
   "cell_type": "code",
   "execution_count": 13,
   "id": "1bb7f85f-0752-4638-9aa6-17c079ce2fb3",
   "metadata": {
    "tags": []
   },
   "outputs": [],
   "source": [
    "from model import WhisperSegmenterFast, WhisperSegmenter\n",
    "import librosa\n",
    "import numpy as np\n",
    "from tqdm import tqdm\n",
    "from copy import deepcopy\n",
    "from train import evaluate\n",
    "from datautils import get_audio_and_label_paths\n",
    "import os\n",
    "from audio_utils import SpecViewer\n",
    "import subprocess\n",
    "from glob import glob\n",
    "import json"
   ]
  },
  {
   "cell_type": "code",
   "execution_count": 14,
   "id": "50fdd2c5-b6cd-4b50-94cf-237120c00006",
   "metadata": {
    "tags": []
   },
   "outputs": [],
   "source": [
    "def evaluate_dataset( dataset_folder, model_path, num_trials, consolidation_method = \"clustering\",\n",
    "                      max_length = 448, num_beams = 4, batch_size = 8, tolerance = None, spec_time_step = None, eps = None ):\n",
    "    audio_list, label_list = [], []\n",
    "    audio_paths, label_paths = get_audio_and_label_paths(dataset_folder)\n",
    "\n",
    "    # ## debugging\n",
    "    # audio_paths = [item[0] for item in audio_paths ] \n",
    "    \n",
    "    for audio_mc_paths, label_path in zip(audio_paths, label_paths):\n",
    "        label = json.load( open( label_path ) )\n",
    "\n",
    "        audio_mc = []\n",
    "        for audio_path in audio_mc_paths:\n",
    "            audio, _ = librosa.load( audio_path, sr = label[\"sr\"] )\n",
    "            audio_mc.append( audio )\n",
    "        min_len_list = min( [ len(audio) for audio in audio_mc ] )\n",
    "        for c_idx in range(len(audio_mc)):\n",
    "            audio_mc[c_idx] = audio_mc[c_idx][:min_len_list]\n",
    "        audio = np.asarray(audio_mc)\n",
    "        \n",
    "        audio_list.append(audio)\n",
    "        label_list.append(label) \n",
    "        \n",
    "        if tolerance is not None:\n",
    "            label[\"tolerance\"] = tolerance\n",
    "        if spec_time_step is not None:\n",
    "            label[\"spec_time_step\"] = spec_time_step\n",
    "        if eps is not None:\n",
    "            label[\"eps\"] = eps \n",
    "\n",
    "\n",
    "    segmenter = WhisperSegmenterFast(  model_path = model_path,  device = \"cuda\")\n",
    "    res = evaluate( audio_list, label_list, segmenter, batch_size, max_length, num_trials, consolidation_method, num_beams, \n",
    "                    target_cluster = None\n",
    "                  )\n",
    "\n",
    "    all_res = {\n",
    "        \"segment_wise_scores\": {\"N-true-positive\": res[\"segment_wise\"][0],\n",
    "                                \"N-positive-in-prediction\": res[\"segment_wise\"][1],\n",
    "                                \"N-positive-in-ground-truth\": res[\"segment_wise\"][2],\n",
    "                                \"precision\": res[\"segment_wise\"][3],\n",
    "                                \"recall\": res[\"segment_wise\"][4],\n",
    "                                \"F1\": res[\"segment_wise\"][5]\n",
    "                                },\n",
    "        \"frame_wise_scores\": {\"N-true-positive\": res[\"frame_wise\"][0],\n",
    "                                \"N-positive-in-prediction\": res[\"frame_wise\"][1],\n",
    "                                \"N-positive-in-ground-truth\": res[\"frame_wise\"][2],\n",
    "                                \"precision\": res[\"frame_wise\"][3],\n",
    "                                \"recall\": res[\"frame_wise\"][4],\n",
    "                                \"F1\": res[\"frame_wise\"][5]\n",
    "                                }\n",
    "    }\n",
    "    return all_res"
   ]
  },
  {
   "cell_type": "code",
   "execution_count": 34,
   "id": "90e5902b-5f28-459e-b7c7-d579d63a4daf",
   "metadata": {},
   "outputs": [
    {
     "name": "stderr",
     "output_type": "stream",
     "text": [
      "100%|██████████████████████████████████████████████████████████████████████████████████████████████| 4/4 [00:37<00:00,  9.31s/it]\n"
     ]
    },
    {
     "data": {
      "text/plain": [
       "{'segment_wise_scores': {'N-true-positive': 275,\n",
       "  'N-positive-in-prediction': 283,\n",
       "  'N-positive-in-ground-truth': 296,\n",
       "  'precision': 0.9717314487632509,\n",
       "  'recall': 0.9290540540540541,\n",
       "  'F1': 0.9499136442141624},\n",
       " 'frame_wise_scores': {'N-true-positive': 26679,\n",
       "  'N-positive-in-prediction': 27730,\n",
       "  'N-positive-in-ground-truth': 28430,\n",
       "  'precision': 0.9620988099531194,\n",
       "  'recall': 0.9384101301442138,\n",
       "  'F1': 0.9501068376068375}}"
      ]
     },
     "execution_count": 34,
     "metadata": {},
     "output_type": "execute_result"
    }
   ],
   "source": [
    "evaluate_dataset( \"../data/example_subset/Zebra_finch/test/\", \n",
    "                 \"../model/mc-whisperseg-zebra-finch-from-animal-vad/final_checkpoint_ct2/\", \n",
    "                  num_trials = 3, tolerance = 0.02 )"
   ]
  },
  {
   "cell_type": "code",
   "execution_count": null,
   "id": "024596fa-cd34-41fc-bf57-a0bfda5b9658",
   "metadata": {},
   "outputs": [],
   "source": []
  },
  {
   "cell_type": "code",
   "execution_count": 36,
   "id": "47354645-dd38-45ce-b2b7-a8262e4fcc78",
   "metadata": {
    "tags": []
   },
   "outputs": [],
   "source": [
    "import requests,json,base64\n",
    "\n",
    "## define a function for segmentation\n",
    "def call_segment_service( service_address, \n",
    "                          audio_file_path,\n",
    "                          channel_id,\n",
    "                          sr,\n",
    "                          min_frequency,\n",
    "                          spec_time_step,\n",
    "                          min_segment_length,\n",
    "                          eps,\n",
    "                          num_trials\n",
    "                        ):\n",
    "    audio_file_base64_string = base64.b64encode( open(audio_file_path, 'rb').read()).decode('ASCII')\n",
    "    response = requests.post( service_address,\n",
    "                              data = json.dumps( {\n",
    "                                  \"audio_file_base64_string\":audio_file_base64_string,\n",
    "                                  \"channel_id\":channel_id,\n",
    "                                  \"sr\":sr,\n",
    "                                  \"min_frequency\":min_frequency,\n",
    "                                  \"spec_time_step\":spec_time_step,\n",
    "                                  \"min_segment_length\":min_segment_length,\n",
    "                                  \"eps\":eps,\n",
    "                                  \"num_trials\":num_trials\n",
    "                              } ),\n",
    "                              headers = {\"Content-Type\": \"application/json\"}\n",
    "                            )\n",
    "    return response.json()"
   ]
  },
  {
   "cell_type": "code",
   "execution_count": null,
   "id": "2fb302e0-adda-4826-ab21-93b02a0287d3",
   "metadata": {},
   "outputs": [],
   "source": []
  },
  {
   "cell_type": "code",
   "execution_count": 37,
   "id": "4a11e645-9abe-4664-ab1a-562f4583af55",
   "metadata": {
    "tags": []
   },
   "outputs": [],
   "source": [
    "from model import WhisperSegmenterFast, WhisperSegmenter\n",
    "from audio_utils import SpecViewer\n",
    "segmenter = WhisperSegmenterFast( \"../model/mc-whisperseg-zebra-finch-from-animal-vad/final_checkpoint_ct2/\", device=\"cuda\" )\n",
    "# segmenter = WhisperSegmenter( \"nccratliri/whisperseg-large-vad-v1.0\", device=\"cuda\" )\n",
    "spec_viewer = SpecViewer()"
   ]
  },
  {
   "cell_type": "code",
   "execution_count": 41,
   "id": "c9c4b792-83da-4f96-aa76-d535cfe2891d",
   "metadata": {},
   "outputs": [],
   "source": [
    "audio_file_pattern = \"../data/example_subset/Zebra_finch/test/audio_count_1_channel_*.wav\"\n",
    "audio_fname_list = sorted(glob( audio_file_pattern ), key = lambda x:int(x.split(\"_\")[-1].split(\".wav\")[0]))\n",
    "label_fname = audio_fname_list[0][:-4] + \".json\"\n",
    "label = json.load(open(label_fname))"
   ]
  },
  {
   "cell_type": "code",
   "execution_count": 42,
   "id": "edaa2b4f-458c-4883-8dfa-c323edd2da18",
   "metadata": {},
   "outputs": [],
   "source": [
    "sr = label[\"sr\"]  \n",
    "min_frequency = label[\"min_frequency\"]\n",
    "spec_time_step = label[\"spec_time_step\"]\n",
    "min_segment_length = label[\"min_segment_length\"]\n",
    "eps = label[\"eps\"]\n",
    "num_trials = 3"
   ]
  },
  {
   "cell_type": "code",
   "execution_count": 43,
   "id": "2df54b61-5486-4f87-96de-a0c7d67d7dbe",
   "metadata": {
    "tags": []
   },
   "outputs": [],
   "source": [
    "audio_list = []\n",
    "for audio_fname in audio_fname_list:\n",
    "    audio, _ = librosa.load( audio_fname, sr = sr )\n",
    "    audio_list.append(  audio )\n",
    "\n",
    "audio = np.asarray(audio_list)\n",
    "\n",
    "prediction = segmenter.segment(  audio, sr = sr, min_frequency = min_frequency, spec_time_step = spec_time_step,\n",
    "                       min_segment_length = min_segment_length, eps = eps,num_trials = num_trials, batch_size=4 )"
   ]
  },
  {
   "cell_type": "code",
   "execution_count": 44,
   "id": "9905f7fa-403c-4f37-af96-50e5021ec544",
   "metadata": {},
   "outputs": [
    {
     "data": {
      "application/vnd.jupyter.widget-view+json": {
       "model_id": "a3a34b10fd0f4523804eba353098842f",
       "version_major": 2,
       "version_minor": 0
      },
      "text/plain": [
       "interactive(children=(FloatSlider(value=47.0, description='offset', max=94.857625, step=0.5), Output()), _dom_…"
      ]
     },
     "metadata": {},
     "output_type": "display_data"
    },
    {
     "data": {
      "text/plain": [
       "<function ipywidgets.widgets.interaction._InteractFactory.__call__.<locals>.<lambda>(*args, **kwargs)>"
      ]
     },
     "execution_count": 44,
     "metadata": {},
     "output_type": "execute_result"
    }
   ],
   "source": [
    "spec_viewer.visualize( audio = audio_list[0], sr = sr, min_frequency= min_frequency, prediction = prediction, label=label, \n",
    "                       window_size=10, precision_bits=1 )"
   ]
  },
  {
   "cell_type": "code",
   "execution_count": 45,
   "id": "6c35e5d6-d548-41b3-b194-c2403be8a2b9",
   "metadata": {},
   "outputs": [
    {
     "data": {
      "application/vnd.jupyter.widget-view+json": {
       "model_id": "cab06dfdc7424bc49e380fa77553ddb7",
       "version_major": 2,
       "version_minor": 0
      },
      "text/plain": [
       "interactive(children=(FloatSlider(value=47.0, description='offset', max=94.857625, step=0.5), Output()), _dom_…"
      ]
     },
     "metadata": {},
     "output_type": "display_data"
    },
    {
     "data": {
      "text/plain": [
       "<function ipywidgets.widgets.interaction._InteractFactory.__call__.<locals>.<lambda>(*args, **kwargs)>"
      ]
     },
     "execution_count": 45,
     "metadata": {},
     "output_type": "execute_result"
    }
   ],
   "source": [
    "spec_viewer.visualize( audio = audio_list[1], sr = sr, min_frequency= min_frequency, prediction = None, label=label, \n",
    "                       window_size=10, precision_bits=1 )"
   ]
  },
  {
   "cell_type": "code",
   "execution_count": 46,
   "id": "4034fffa-66df-4eed-9c33-92d4d03c469b",
   "metadata": {},
   "outputs": [
    {
     "data": {
      "application/vnd.jupyter.widget-view+json": {
       "model_id": "3d231609281b4f29997ee5f5a7cf7fa4",
       "version_major": 2,
       "version_minor": 0
      },
      "text/plain": [
       "interactive(children=(FloatSlider(value=47.0, description='offset', max=94.857625, step=0.5), Output()), _dom_…"
      ]
     },
     "metadata": {},
     "output_type": "display_data"
    },
    {
     "data": {
      "text/plain": [
       "<function ipywidgets.widgets.interaction._InteractFactory.__call__.<locals>.<lambda>(*args, **kwargs)>"
      ]
     },
     "execution_count": 46,
     "metadata": {},
     "output_type": "execute_result"
    }
   ],
   "source": [
    "spec_viewer.visualize( audio = audio_list[2], sr = sr, min_frequency= min_frequency, prediction = None, label=label, \n",
    "                       window_size=10, precision_bits=1 )"
   ]
  },
  {
   "cell_type": "code",
   "execution_count": null,
   "id": "a183b692-5099-46f9-ae43-f9f905be3fcf",
   "metadata": {},
   "outputs": [],
   "source": []
  },
  {
   "cell_type": "code",
   "execution_count": null,
   "id": "21dd476e-b18e-4522-a4a3-e01caf6f13a1",
   "metadata": {},
   "outputs": [],
   "source": []
  },
  {
   "cell_type": "code",
   "execution_count": 25,
   "id": "92976494-803c-4a79-a7b6-b7a0dd433882",
   "metadata": {
    "tags": []
   },
   "outputs": [
    {
     "data": {
      "application/vnd.jupyter.widget-view+json": {
       "model_id": "d0186e5128de4266b8044ea676cd9679",
       "version_major": 2,
       "version_minor": 0
      },
      "text/plain": [
       "interactive(children=(FloatSlider(value=13.5, description='offset', max=27.0345625, step=0.25), Output()), _do…"
      ]
     },
     "metadata": {},
     "output_type": "display_data"
    },
    {
     "data": {
      "text/plain": [
       "<function ipywidgets.widgets.interaction._InteractFactory.__call__.<locals>.<lambda>(*args, **kwargs)>"
      ]
     },
     "execution_count": 25,
     "metadata": {},
     "output_type": "execute_result"
    }
   ],
   "source": [
    "prediction2 = call_segment_service( \"http://localhost:8050/segment\", \n",
    "                          audio_file,   \n",
    "                          channel_id = 0,\n",
    "                          sr = sr,\n",
    "                          min_frequency = min_frequency,\n",
    "                          spec_time_step = spec_time_step,\n",
    "                          min_segment_length = min_segment_length,\n",
    "                          eps = eps,\n",
    "                          num_trials = num_trials\n",
    "                        )\n",
    "spec_viewer.visualize( audio = audio, sr = sr, min_frequency= min_frequency, prediction = prediction2, label=label, \n",
    "                       window_size=5, precision_bits=1 )"
   ]
  },
  {
   "cell_type": "code",
   "execution_count": 23,
   "id": "57a84275-d078-4a62-802c-903b6cbb3f55",
   "metadata": {
    "tags": []
   },
   "outputs": [
    {
     "data": {
      "text/plain": [
       "True"
      ]
     },
     "execution_count": 23,
     "metadata": {},
     "output_type": "execute_result"
    }
   ],
   "source": [
    "prediction == prediction2"
   ]
  },
  {
   "cell_type": "code",
   "execution_count": null,
   "id": "fd2e5bc7-3a73-48cb-80d9-27b3332fb18e",
   "metadata": {},
   "outputs": [],
   "source": []
  }
 ],
 "metadata": {
  "kernelspec": {
   "display_name": "Python [conda env:wseg]",
   "language": "python",
   "name": "conda-env-wseg-py"
  },
  "language_info": {
   "codemirror_mode": {
    "name": "ipython",
    "version": 3
   },
   "file_extension": ".py",
   "mimetype": "text/x-python",
   "name": "python",
   "nbconvert_exporter": "python",
   "pygments_lexer": "ipython3",
   "version": "3.10.13"
  }
 },
 "nbformat": 4,
 "nbformat_minor": 5
}
