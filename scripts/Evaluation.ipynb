{
 "cells": [
  {
   "cell_type": "code",
   "execution_count": 1,
   "id": "49ffdfb7-9d76-4a60-a358-d706bc599b7b",
   "metadata": {
    "tags": []
   },
   "outputs": [],
   "source": [
    "import sys, os\n",
    "# os.environ[\"CUDA_VISIBLE_DEVICES\"] = \"1\"\n",
    "sys.path.insert(0, os.path.dirname(os.getcwd()))"
   ]
  },
  {
   "cell_type": "code",
   "execution_count": 2,
   "id": "1bb7f85f-0752-4638-9aa6-17c079ce2fb3",
   "metadata": {
    "tags": []
   },
   "outputs": [],
   "source": [
    "from model import WhisperSegmenterFast, WhisperSegmenter\n",
    "import librosa\n",
    "import numpy as np\n",
    "from tqdm import tqdm\n",
    "from copy import deepcopy\n",
    "from train import evaluate\n",
    "from datautils import get_audio_and_label_paths\n",
    "import os\n",
    "from audio_utils import SpecViewer\n",
    "import subprocess\n",
    "from glob import glob\n",
    "import json"
   ]
  },
  {
   "cell_type": "code",
   "execution_count": 3,
   "id": "50fdd2c5-b6cd-4b50-94cf-237120c00006",
   "metadata": {
    "tags": []
   },
   "outputs": [],
   "source": [
    "def evaluate_dataset( dataset_folder, model_path, num_trials, consolidation_method = \"clustering\",\n",
    "                      max_length = 448, num_beams = 4, batch_size = 8, tolerance = None, spec_time_step = None, eps = None ):\n",
    "    audio_list, label_list = [], []\n",
    "    audio_paths, label_paths = get_audio_and_label_paths(dataset_folder)\n",
    "\n",
    "    # ## debugging\n",
    "    # audio_paths = [item[0] for item in audio_paths ] \n",
    "    \n",
    "    for audio_mc_paths, label_path in zip(audio_paths, label_paths):\n",
    "        label = json.load( open( label_path ) )\n",
    "\n",
    "        audio_mc = []\n",
    "        for audio_path in audio_mc_paths:\n",
    "            audio, _ = librosa.load( audio_path, sr = label[\"sr\"] )\n",
    "            audio_mc.append( audio )\n",
    "        min_len_list = min( [ len(audio) for audio in audio_mc ] )\n",
    "        for c_idx in range(len(audio_mc)):\n",
    "            audio_mc[c_idx] = audio_mc[c_idx][:min_len_list]\n",
    "        audio = np.asarray(audio_mc)\n",
    "        \n",
    "        audio_list.append(audio)\n",
    "        label_list.append(label) \n",
    "        \n",
    "        if tolerance is not None:\n",
    "            label[\"tolerance\"] = tolerance\n",
    "        if spec_time_step is not None:\n",
    "            label[\"spec_time_step\"] = spec_time_step\n",
    "        if eps is not None:\n",
    "            label[\"eps\"] = eps \n",
    "\n",
    "\n",
    "    segmenter = WhisperSegmenterFast(  model_path = model_path,  device = \"cuda\")\n",
    "    res = evaluate( audio_list, label_list, segmenter, batch_size, max_length, num_trials, consolidation_method, num_beams, \n",
    "                    target_cluster = None\n",
    "                  )\n",
    "\n",
    "    all_res = {\n",
    "        \"segment_wise_scores\": {\"N-true-positive\": res[\"segment_wise\"][0],\n",
    "                                \"N-positive-in-prediction\": res[\"segment_wise\"][1],\n",
    "                                \"N-positive-in-ground-truth\": res[\"segment_wise\"][2],\n",
    "                                \"precision\": res[\"segment_wise\"][3],\n",
    "                                \"recall\": res[\"segment_wise\"][4],\n",
    "                                \"F1\": res[\"segment_wise\"][5]\n",
    "                                },\n",
    "        \"frame_wise_scores\": {\"N-true-positive\": res[\"frame_wise\"][0],\n",
    "                                \"N-positive-in-prediction\": res[\"frame_wise\"][1],\n",
    "                                \"N-positive-in-ground-truth\": res[\"frame_wise\"][2],\n",
    "                                \"precision\": res[\"frame_wise\"][3],\n",
    "                                \"recall\": res[\"frame_wise\"][4],\n",
    "                                \"F1\": res[\"frame_wise\"][5]\n",
    "                                }\n",
    "    }\n",
    "    return all_res"
   ]
  },
  {
   "cell_type": "code",
   "execution_count": 10,
   "id": "4c231696-d9b3-4d2d-a287-f40ca170ad94",
   "metadata": {},
   "outputs": [
    {
     "name": "stderr",
     "output_type": "stream",
     "text": [
      "100%|████████████████████████████████████████████████████████████████████████████████████████████| 10/10 [05:07<00:00, 30.75s/it]\n"
     ]
    },
    {
     "data": {
      "text/plain": [
       "{'segment_wise_scores': {'N-true-positive': 835,\n",
       "  'N-positive-in-prediction': 901,\n",
       "  'N-positive-in-ground-truth': 892,\n",
       "  'precision': 0.9267480577136515,\n",
       "  'recall': 0.9360986547085202,\n",
       "  'F1': 0.9313998884551034},\n",
       " 'frame_wise_scores': {'N-true-positive': 78341,\n",
       "  'N-positive-in-prediction': 81184,\n",
       "  'N-positive-in-ground-truth': 83000,\n",
       "  'precision': 0.964980784391013,\n",
       "  'recall': 0.9438674698795181,\n",
       "  'F1': 0.9543073624713736}}"
      ]
     },
     "execution_count": 10,
     "metadata": {},
     "output_type": "execute_result"
    }
   ],
   "source": [
    "evaluate_dataset( \"../data/datasets/zebra_finch_full/test/\", \n",
    "                 \"../model/mc-whisperseg-mc-zebra-finch-mask-08-2_5-5epochs/final_checkpoint_ct2/\", \n",
    "                  num_trials = 3, tolerance = 0.02 )"
   ]
  },
  {
   "cell_type": "code",
   "execution_count": null,
   "id": "ee6c6815-4976-4156-81b2-ad262428a35b",
   "metadata": {},
   "outputs": [],
   "source": []
  },
  {
   "cell_type": "code",
   "execution_count": 4,
   "id": "4a11e645-9abe-4664-ab1a-562f4583af55",
   "metadata": {
    "tags": []
   },
   "outputs": [
    {
     "name": "stderr",
     "output_type": "stream",
     "text": [
      "Special tokens have been added in the vocabulary, make sure the associated word embeddings are fine-tuned or trained.\n"
     ]
    }
   ],
   "source": [
    "from model import WhisperSegmenterFast, WhisperSegmenter\n",
    "from audio_utils import SpecViewer\n",
    "# segmenter = WhisperSegmenterFast( \"../model/mc-whisperseg-mc-zebra-finch-mask-08-2_5-5epochs/final_checkpoint_ct2/\", device=\"cuda\" )\n",
    "segmenter = WhisperSegmenterFast( \"nccratliri/mc-whisperseg-zebra-finch-ct2-v1.0\", device=\"cuda\" )\n",
    "spec_viewer = SpecViewer()"
   ]
  },
  {
   "cell_type": "code",
   "execution_count": 54,
   "id": "d579645b-55df-49de-9bd2-4f19c5cb0b68",
   "metadata": {},
   "outputs": [],
   "source": [
    "audio_file_pattern = \"../data/datasets/zebra_finch_full/test/BP_2021-05-28_15-35-42_115696_0280000_radio2_as_target_channel_*.wav\" \n",
    "\n",
    "audio_fname_list = sorted(glob( audio_file_pattern ), key = lambda x:int(x.split(\"_\")[-1].split(\".wav\")[0]))\n",
    "label_fname = audio_fname_list[0][:-4] + \".json\"\n",
    "label = json.load(open(label_fname))"
   ]
  },
  {
   "cell_type": "code",
   "execution_count": 55,
   "id": "edaa2b4f-458c-4883-8dfa-c323edd2da18",
   "metadata": {},
   "outputs": [],
   "source": [
    "sr = label[\"sr\"]  \n",
    "min_frequency = label[\"min_frequency\"]\n",
    "spec_time_step = label[\"spec_time_step\"]\n",
    "min_segment_length = label[\"min_segment_length\"]\n",
    "eps = label[\"eps\"]\n",
    "num_trials = 3"
   ]
  },
  {
   "cell_type": "code",
   "execution_count": 56,
   "id": "2df54b61-5486-4f87-96de-a0c7d67d7dbe",
   "metadata": {
    "tags": []
   },
   "outputs": [],
   "source": [
    "audio_list = []\n",
    "for audio_fname in audio_fname_list:\n",
    "    audio, _ = librosa.load( audio_fname, sr = sr )\n",
    "    audio_list.append(  audio )\n",
    "\n",
    "audio = np.asarray(audio_list)\n",
    "\n",
    "prediction = segmenter.segment(  audio, sr = sr, min_frequency = min_frequency, spec_time_step = spec_time_step,\n",
    "                       min_segment_length = min_segment_length, eps = eps,num_trials = num_trials, batch_size=4 )"
   ]
  },
  {
   "cell_type": "code",
   "execution_count": 57,
   "id": "1ee830dc-0e4c-40ea-9b82-4ad86b19b89e",
   "metadata": {},
   "outputs": [
    {
     "data": {
      "text/plain": [
       "(229, 256, 246, 0.89453125, 0.9308943089430894, 0.9123505976095617)"
      ]
     },
     "execution_count": 57,
     "metadata": {},
     "output_type": "execute_result"
    }
   ],
   "source": [
    "segmenter.segment_score( prediction, label)"
   ]
  },
  {
   "cell_type": "code",
   "execution_count": 47,
   "id": "9905f7fa-403c-4f37-af96-50e5021ec544",
   "metadata": {},
   "outputs": [
    {
     "data": {
      "application/vnd.jupyter.widget-view+json": {
       "model_id": "2f2a6e2ac2a843b1b4914bf0974547a7",
       "version_major": 2,
       "version_minor": 0
      },
      "text/plain": [
       "interactive(children=(FloatSlider(value=207.0, description='offset', max=414.4304375, step=0.25), Output()), _…"
      ]
     },
     "metadata": {},
     "output_type": "display_data"
    },
    {
     "data": {
      "text/plain": [
       "<function ipywidgets.widgets.interaction._InteractFactory.__call__.<locals>.<lambda>(*args, **kwargs)>"
      ]
     },
     "execution_count": 47,
     "metadata": {},
     "output_type": "execute_result"
    }
   ],
   "source": [
    "spec_viewer.visualize( audio = audio, sr = sr, min_frequency= min_frequency, prediction = prediction, label=label, \n",
    "                       window_size=5, precision_bits=1, \n",
    "                       audio_channel_names=[\"Mic\", \"non-target\\nradio\", \"target\\nradio\"] )"
   ]
  },
  {
   "cell_type": "code",
   "execution_count": 58,
   "id": "c44447ef-74ff-4aa6-a3c2-79873fe61b9c",
   "metadata": {},
   "outputs": [
    {
     "data": {
      "application/vnd.jupyter.widget-view+json": {
       "model_id": "065885d90e344816a24790bbef1e07fb",
       "version_major": 2,
       "version_minor": 0
      },
      "text/plain": [
       "interactive(children=(FloatSlider(value=207.0, description='offset', max=414.4304375, step=0.25), Output()), _…"
      ]
     },
     "metadata": {},
     "output_type": "display_data"
    },
    {
     "data": {
      "text/plain": [
       "<function ipywidgets.widgets.interaction._InteractFactory.__call__.<locals>.<lambda>(*args, **kwargs)>"
      ]
     },
     "execution_count": 58,
     "metadata": {},
     "output_type": "execute_result"
    }
   ],
   "source": [
    "spec_viewer.visualize( audio = audio, sr = sr, min_frequency= min_frequency, prediction = prediction, label=label, \n",
    "                       window_size=5, precision_bits=1, \n",
    "                       audio_channel_names=[\"Mic\", \"non-target\\nradio\", \"target\\nradio\"] )"
   ]
  },
  {
   "cell_type": "code",
   "execution_count": 51,
   "id": "0b23446a-6d05-46eb-8bed-35746e704096",
   "metadata": {},
   "outputs": [],
   "source": [
    "clip_audio = audio[2][ int(180.8 * 16000):int(181.2 * 16000) ]"
   ]
  },
  {
   "cell_type": "code",
   "execution_count": 52,
   "id": "33953bb9-eea7-4593-81dc-a8e0f80f8622",
   "metadata": {},
   "outputs": [],
   "source": [
    "from IPython.display import Audio"
   ]
  },
  {
   "cell_type": "code",
   "execution_count": 53,
   "id": "0caf7e69-8b57-49dd-acc6-1164416d2377",
   "metadata": {},
   "outputs": [
    {
     "data": {
      "text/html": [
       "\n",
       "                <audio  controls=\"controls\" >\n",
       "                    <source src=\"data:audio/wav;base64,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\" type=\"audio/wav\" />\n",
       "                    Your browser does not support the audio element.\n",
       "                </audio>\n",
       "              "
      ],
      "text/plain": [
       "<IPython.lib.display.Audio object>"
      ]
     },
     "execution_count": 53,
     "metadata": {},
     "output_type": "execute_result"
    }
   ],
   "source": [
    "Audio( clip_audio, rate=16000 )"
   ]
  },
  {
   "cell_type": "code",
   "execution_count": null,
   "id": "cc668bd0-6f67-47bc-825a-398aa80e4494",
   "metadata": {},
   "outputs": [],
   "source": []
  },
  {
   "cell_type": "code",
   "execution_count": 4,
   "id": "09293f2b-153b-4ef3-a994-18651d6bff59",
   "metadata": {},
   "outputs": [],
   "source": [
    "from audio_utils import SpecViewer\n",
    "import librosa\n",
    "import numpy as np\n",
    "from glob import glob\n",
    "import json\n",
    "from model import MultiChannelWhisperSeg"
   ]
  },
  {
   "cell_type": "code",
   "execution_count": 5,
   "id": "d110e384-97fd-42de-bb08-39166f488b97",
   "metadata": {},
   "outputs": [
    {
     "name": "stderr",
     "output_type": "stream",
     "text": [
      "Special tokens have been added in the vocabulary, make sure the associated word embeddings are fine-tuned or trained.\n"
     ]
    }
   ],
   "source": [
    "# mc_segmenter = MultiChannelWhisperSeg( \"nccratliri/mc-whisperseg-zebra-finch-ct2-v1.0\", device=\"cuda\" )\n",
    "mc_segmenter = MultiChannelWhisperSeg( \"../model/mc-whisperseg-zebra-finch-8-bird-00-2_0-500-iter/final_checkpoint_ct2/\", device=\"cuda\" )"
   ]
  },
  {
   "cell_type": "code",
   "execution_count": 6,
   "id": "5b9d9a6a-1417-4d94-bff6-d41d4e818c60",
   "metadata": {},
   "outputs": [],
   "source": [
    "sr = 16000\n",
    "## There should be at least 1 radio channel, and at least 1 mic channel. \n",
    "## The number of radio channels can be greater than 2\n",
    "radio_fname_list = [ \n",
    "     \"../data/example_subset/Zebra_finch/test/BP_2021-05-23_09-22-46_918470_0580000_radio1.wav\",\n",
    "     \"../data/example_subset/Zebra_finch/test/BP_2021-05-23_09-22-46_918470_0580000_radio2.wav\"\n",
    "]\n",
    "mic_fname_list = [\n",
    "     \"../data/example_subset/Zebra_finch/test/BP_2021-05-23_09-22-46_918470_0580000_daq1.wav\"\n",
    "]"
   ]
  },
  {
   "cell_type": "code",
   "execution_count": 7,
   "id": "965d73da-6ebf-4a8e-9aac-903a768037a0",
   "metadata": {},
   "outputs": [],
   "source": [
    "radio_channels = [ librosa.load( fname, sr = sr )[0] for fname in radio_fname_list ]\n",
    "mic_channels = [ librosa.load( fname, sr = sr )[0] for fname in mic_fname_list ]"
   ]
  },
  {
   "cell_type": "code",
   "execution_count": 10,
   "id": "70013a3e-29aa-4e16-872d-a1efec51e0ba",
   "metadata": {},
   "outputs": [
    {
     "data": {
      "text/plain": [
       "<model.WhisperSegmenterFast at 0x7f7466261600>"
      ]
     },
     "execution_count": 10,
     "metadata": {},
     "output_type": "execute_result"
    }
   ],
   "source": [
    "mc_segmenter.segmenter"
   ]
  },
  {
   "cell_type": "code",
   "execution_count": 6,
   "id": "7ac5d612-e9ab-45a2-a34d-43f91f7b147a",
   "metadata": {},
   "outputs": [],
   "source": [
    "audios, sr = librosa.load(\"../data/datasets/8bird_data/test/BP_2022-09-17_08-12-52_692166_0380000_allchannels_test.wav\", sr = 16000, mono=False)"
   ]
  },
  {
   "cell_type": "code",
   "execution_count": 7,
   "id": "342cd93f-d982-46e7-86b5-3c5532363c43",
   "metadata": {},
   "outputs": [
    {
     "data": {
      "text/plain": [
       "(13, 3830887)"
      ]
     },
     "execution_count": 7,
     "metadata": {},
     "output_type": "execute_result"
    }
   ],
   "source": [
    "audios.shape"
   ]
  },
  {
   "cell_type": "code",
   "execution_count": 8,
   "id": "dd043c5d-13c6-4076-bc1b-cd5627bad4cc",
   "metadata": {},
   "outputs": [],
   "source": [
    "radio_channels = [audios[pos] for pos in range(8) ]\n",
    "mic_channels = [ audios[8] ]"
   ]
  },
  {
   "cell_type": "code",
   "execution_count": null,
   "id": "2165b071-ae4d-4ac9-ba12-014d0e6e9e80",
   "metadata": {},
   "outputs": [],
   "source": []
  },
  {
   "cell_type": "code",
   "execution_count": 11,
   "id": "356a8cb2-552e-461d-a50e-fa1188931f9e",
   "metadata": {},
   "outputs": [
    {
     "name": "stdout",
     "output_type": "stream",
     "text": [
      "Segmenting radio channel 0 [■■■■■■■■■■■■■■■■■■■■■■■■■■■■■■■■■■■■■■■■■■■■■■■■■■] 100.00%\n",
      "Segmenting radio channel 1 [■■■■■■■■■■■■■■■■■■■■■■■■■■■■■■■■■■■■■■■■■■■■■■■■■■] 100.00%\n",
      "Segmenting radio channel 2 [■■■■■■■■■■■■■■■■■■■■■■■■■■■■■■■■■■■■■■■■■■■■■■■■■■] 100.00%\n",
      "Segmenting radio channel 3 [■■■■■■■■■■■■■■■■■■■■■■■■■■■■■■■■■■■■■■■■■■■■■■■■■■] 100.00%\n",
      "Segmenting radio channel 4 [■■■■■■■■■■■■■■■■■■■■■■■■■■■■■■■■■■■■■■■■■■■■■■■■■■] 100.00%\n",
      "Segmenting radio channel 5 [■■■■■■■■■■■■■■■■■■■■■■■■■■■■■■■■■■■■■■■■■■■■■■■■■■] 100.00%\n",
      "Segmenting radio channel 6 [■■■■■■■■■■■■■■■■■■■■■■■■■■■■■■■■■■■■■■■■■■■■■■■■■■] 100.00%\n",
      "Segmenting radio channel 7 [■■■■■■■■■■■■■■■■■■■■■■■■■■■■■■■■■■■■■■■■■■■■■■■■■■] 100.00%\n"
     ]
    }
   ],
   "source": [
    "# predictions = mc_segmenter.segment( radio_channels, mic_channels, sr,\n",
    "#                       min_frequency = 0,\n",
    "#                       spec_time_step = 0.0025,\n",
    "#                       min_segment_length = 0.005,\n",
    "#                       eps = 0.02,\n",
    "#                       num_trials = 3\n",
    "#                     )"
   ]
  },
  {
   "cell_type": "code",
   "execution_count": 11,
   "id": "3809d0c3-f999-497f-9d48-7fa7772185ad",
   "metadata": {},
   "outputs": [
    {
     "name": "stdout",
     "output_type": "stream",
     "text": [
      "Segmenting radio channel 0 [■■■■■■■■■■■■■■■■■■■■■■■■■■■■■■■■■■■■■■■■■■■■■■■■■■] 100.00%\n",
      "Segmenting radio channel 1 [■■■■■■■■■■■■■■■■■■■■■■■■■■■■■■■■■■■■■■■■■■■■■■■■■-] 99.00%\n",
      "Segmenting radio channel 2 [■■■■■■■■■■■■■■■■■■■■■■■■■■■■■■■■■■■■■■■■■■■■■■■■■■] 100.00%\n",
      "Segmenting radio channel 3 [■■■■■■■■■■■■■■■■■■■■■■■■■■■■■■■■■■■■■■■■■■■■■■■■■■] 100.00%\n",
      "Segmenting radio channel 4 [■■■■■■■■■■■■■■■■■■■■■■■■■■■■■■■■■■■■■■■■■■■■■■■■■■] 100.00%\n",
      "Segmenting radio channel 5 [■■■■■■■■■■■■■■■■■■■■■■■■■■■■■■■■■■■■■■■■■■■■■■■■■-] 99.00%\n",
      "Segmenting radio channel 6 [■■■■■■■■■■■■■■■■■■■■■■■■■■■■■■■■■■■■■■■■■■■■■■■■■■] 100.00%\n",
      "Segmenting radio channel 7 [■■■■■■■■■■■■■■■■■■■■■■■■■■■■■■■■■■■■■■■■■■■■■■■■■■] 100.00%\n"
     ]
    }
   ],
   "source": [
    "predictions = mc_segmenter.segment( radio_channels, mic_channels, sr,\n",
    "                      min_frequency = 0,\n",
    "                      spec_time_step = 0.002,\n",
    "                      min_segment_length = 0.004,\n",
    "                      eps = 0.016,\n",
    "                      num_trials = 3\n",
    "                    )"
   ]
  },
  {
   "cell_type": "code",
   "execution_count": 12,
   "id": "8d103cef-9eec-4e14-803e-1a53274fb1cf",
   "metadata": {},
   "outputs": [],
   "source": [
    "import pandas as pd"
   ]
  },
  {
   "cell_type": "code",
   "execution_count": 13,
   "id": "f91da87e-949b-41a9-abc7-fb773ac5e50f",
   "metadata": {},
   "outputs": [],
   "source": [
    "merged_onsets = []\n",
    "merges_offsets = []\n",
    "tracks = []\n",
    "for track_id in range(len(predictions)):\n",
    "    merged_onsets += predictions[track_id][\"onset\"]\n",
    "    merges_offsets += predictions[track_id][\"offset\"]\n",
    "    tracks += [track_id] * len(predictions[track_id][\"onset\"])\n",
    "\n",
    "merged_onsets, merges_offsets, tracks = list(zip(*sorted(zip( merged_onsets, merges_offsets, tracks ), key = lambda x:x[0])))"
   ]
  },
  {
   "cell_type": "code",
   "execution_count": 28,
   "id": "58990fa6-4883-451c-996b-15bcb2b12a01",
   "metadata": {},
   "outputs": [],
   "source": [
    "df = pd.DataFrame( {\n",
    "    \"onset\":merged_onsets,\n",
    "    \"offset\":merges_offsets,\n",
    "    \"species\":[\"Unknown\"]*len(merged_onsets),\n",
    "    \"individual\":[\"Unknown\"]*len(merged_onsets),\n",
    "    \"clustername\":[\"Unknown\"]*len(merged_onsets),\n",
    "    \"filename\":[\"BP_2022-09-17_08-12-52_692166_0380000_allchannels_test.wav\"]*len(merged_onsets),\n",
    "    \"channelIndex\":tracks,\n",
    "})\n",
    "df = df.sort_values([ \"channelIndex\", \"onset\" ])"
   ]
  },
  {
   "cell_type": "code",
   "execution_count": 29,
   "id": "c3bf0089-2fb5-4a3d-afca-95fcd3458ee9",
   "metadata": {},
   "outputs": [],
   "source": [
    "df.to_csv(\"mc-whisperseg-prediction_new.csv\", index = False)"
   ]
  },
  {
   "cell_type": "code",
   "execution_count": null,
   "id": "d74e4599-cea6-4c2b-b7d9-047443cfd0f7",
   "metadata": {},
   "outputs": [],
   "source": []
  },
  {
   "cell_type": "markdown",
   "id": "44655d07-4fa1-4395-af41-afccfa860083",
   "metadata": {},
   "source": [
    "predictions is a list of prediction. Each prediction corresponds to one radio channel. For example, predictions[0] contains the segmentation results of radio_channels[0].\n",
    "\n",
    "predictions[0] is a dictionary containing \"onset\", \"offset\" and \"cluster\" as usual.\n",
    "\n",
    "Let's visualize the segmentation results."
   ]
  },
  {
   "cell_type": "code",
   "execution_count": 9,
   "id": "8175aac9-67ed-4175-a804-6170477f6bb0",
   "metadata": {},
   "outputs": [],
   "source": [
    "spec_viewer = SpecViewer()"
   ]
  },
  {
   "cell_type": "code",
   "execution_count": 10,
   "id": "6cc6acb5-3954-4609-aa94-16e45b5ca3bf",
   "metadata": {},
   "outputs": [
    {
     "name": "stdout",
     "output_type": "stream",
     "text": [
      "segment-F1: 0.9692307692307693\n"
     ]
    },
    {
     "data": {
      "application/vnd.jupyter.widget-view+json": {
       "model_id": "3e9cd290d93f49c6be9ea15e62b086a2",
       "version_major": 2,
       "version_minor": 0
      },
      "text/plain": [
       "interactive(children=(FloatSlider(value=207.0, description='offset', max=414.4304375, step=0.25), Output()), _…"
      ]
     },
     "metadata": {},
     "output_type": "display_data"
    },
    {
     "data": {
      "text/plain": [
       "<function ipywidgets.widgets.interaction._InteractFactory.__call__.<locals>.<lambda>(*args, **kwargs)>"
      ]
     },
     "execution_count": 10,
     "metadata": {},
     "output_type": "execute_result"
    }
   ],
   "source": [
    "\"\"\" suppose radio1 is the target channel we are segmenting now,\n",
    "    predictions[0] contains the segmentation results of radio1\"\"\"\n",
    "## load the ground-truth segmentation:\n",
    "label_radio1 = json.load(open(\"../data/example_subset/Zebra_finch/test/BP_2021-05-23_09-22-46_918470_0580000_radio1.json\"))\n",
    "## compute score\n",
    "segment_score = mc_segmenter.segmenter.segment_score( prediction = predictions[0], label = label_radio1 )\n",
    "print(\"segment-F1:\",segment_score[-1])\n",
    "## visualize\n",
    "spec_viewer.visualize(\n",
    "    np.asarray([ radio_channels[0], radio_channels[1], mic_channels[0] ]),\n",
    "    sr = sr,\n",
    "    label = label_radio1,\n",
    "    prediction= predictions[0],\n",
    "    audio_channel_names=[\"Mic (daq1)\", \"radio 2\", \"radio 1\\n(target)\"]\n",
    ")"
   ]
  },
  {
   "cell_type": "code",
   "execution_count": 11,
   "id": "c641589c-23a7-48bd-857c-79da6842719e",
   "metadata": {},
   "outputs": [
    {
     "name": "stdout",
     "output_type": "stream",
     "text": [
      "segment-F1: 0.896551724137931\n"
     ]
    },
    {
     "data": {
      "application/vnd.jupyter.widget-view+json": {
       "model_id": "9d503c9eb2094f0e9eecb1118509ac06",
       "version_major": 2,
       "version_minor": 0
      },
      "text/plain": [
       "interactive(children=(FloatSlider(value=207.0, description='offset', max=414.4304375, step=0.25), Output()), _…"
      ]
     },
     "metadata": {},
     "output_type": "display_data"
    },
    {
     "data": {
      "text/plain": [
       "<function ipywidgets.widgets.interaction._InteractFactory.__call__.<locals>.<lambda>(*args, **kwargs)>"
      ]
     },
     "execution_count": 11,
     "metadata": {},
     "output_type": "execute_result"
    }
   ],
   "source": [
    "\"\"\" suppose radio2 is the target channel we are segmenting now,\n",
    "    predictions[1] contains the segmentation results of radio2\"\"\"\n",
    "## load the ground-truth segmentation:\n",
    "label_radio2 = json.load(open(\"../data/example_subset/Zebra_finch/test/BP_2021-05-23_09-22-46_918470_0580000_radio2.json\"))\n",
    "## compute score\n",
    "segment_score = mc_segmenter.segmenter.segment_score( prediction = predictions[1], label = label_radio2 )\n",
    "print(\"segment-F1:\",segment_score[-1])\n",
    "## visualize\n",
    "spec_viewer.visualize(\n",
    "    np.asarray([ radio_channels[0], radio_channels[1], mic_channels[0] ]),\n",
    "    sr = sr,\n",
    "    label = label_radio2,\n",
    "    prediction= predictions[1],\n",
    "    audio_channel_names=[\"Mic (daq1)\", \"radio 2\\n(target)\", \"radio 1\"]\n",
    ")"
   ]
  },
  {
   "cell_type": "code",
   "execution_count": null,
   "id": "42ada02e-1e18-4068-8253-d339847e66c3",
   "metadata": {},
   "outputs": [],
   "source": []
  }
 ],
 "metadata": {
  "kernelspec": {
   "display_name": "Python [conda env:wseg]",
   "language": "python",
   "name": "conda-env-wseg-py"
  },
  "language_info": {
   "codemirror_mode": {
    "name": "ipython",
    "version": 3
   },
   "file_extension": ".py",
   "mimetype": "text/x-python",
   "name": "python",
   "nbconvert_exporter": "python",
   "pygments_lexer": "ipython3",
   "version": "3.10.14"
  }
 },
 "nbformat": 4,
 "nbformat_minor": 5
}
