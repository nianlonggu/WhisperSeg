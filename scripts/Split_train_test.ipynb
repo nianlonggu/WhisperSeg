{
 "cells": [
  {
   "cell_type": "code",
   "execution_count": 1,
   "id": "f8d00e3d-c8d7-46a3-8644-2446556b75db",
   "metadata": {},
   "outputs": [],
   "source": [
    "import sys, os\n",
    "sys.path.insert( 0, os.path.dirname(os.getcwd()) )"
   ]
  },
  {
   "cell_type": "code",
   "execution_count": 2,
   "id": "a37bd8ad-6ee0-43da-bf7f-7b275711f796",
   "metadata": {},
   "outputs": [],
   "source": [
    "from datautils import get_audio_and_label_paths, get_cluster_codebook, load_data, train_val_split\n",
    "import soundfile as sf\n",
    "import json\n",
    "import numpy as np"
   ]
  },
  {
   "cell_type": "code",
   "execution_count": 3,
   "id": "6ed974e3-d243-4cbc-9e14-43ec93153534",
   "metadata": {},
   "outputs": [],
   "source": [
    "folder_path = \"../data/zebra_finch/processed/\"\n",
    "audio_path_list, label_path_list = get_audio_and_label_paths(folder_path)\n",
    "cluster_codebook = get_cluster_codebook(label_path_list,{})"
   ]
  },
  {
   "cell_type": "code",
   "execution_count": 4,
   "id": "47d87219-ec84-4b5e-8de6-ae5c335acca8",
   "metadata": {},
   "outputs": [
    {
     "name": "stdout",
     "output_type": "stream",
     "text": [
      "|--------------------|progress: 100.00 %\r"
     ]
    }
   ],
   "source": [
    "audio_list, label_list = load_data(audio_path_list, label_path_list, cluster_codebook, n_threads = 1 )"
   ]
  },
  {
   "cell_type": "code",
   "execution_count": 5,
   "id": "58932fbd-08e1-4b07-80d9-3e1f32ee7c30",
   "metadata": {},
   "outputs": [],
   "source": [
    "np.random.seed(10)\n",
    "(audio_list_train, label_list_train), ( audio_list_val, label_list_val ) = train_val_split( audio_list, label_list, val_ratio = 0.25 )"
   ]
  },
  {
   "cell_type": "code",
   "execution_count": 6,
   "id": "9e079792-94e4-4b47-9c71-9f8266eecccb",
   "metadata": {},
   "outputs": [],
   "source": [
    "save_folder = \"../data/zebra_finch/train/\"\n",
    "os.makedirs( save_folder, exist_ok=True )\n",
    "for count, ( audio, label ) in enumerate( zip( audio_list_train, label_list_train ) ):\n",
    "    if \"cluster_id\" in label:\n",
    "        del label[\"cluster_id\"]\n",
    "    label[\"onset\"] = label[\"onset\"].tolist()\n",
    "    label[\"offset\"] = label[\"offset\"].tolist()\n",
    "    for channel_id in range( audio.shape[0] ):\n",
    "        sf.write( save_folder + \"/audio_count_%d_channel_%d.wav\"%( count, channel_id + 1 ), audio[channel_id], \n",
    "                  samplerate = label[\"sr\"] )\n",
    "    json.dump( label, open( save_folder + \"/audio_count_%d_channel_1.json\"%( count ), \"w\" ) )"
   ]
  },
  {
   "cell_type": "code",
   "execution_count": 7,
   "id": "e4cf4f6b-b1fe-484e-bfc9-e749097b2be5",
   "metadata": {},
   "outputs": [],
   "source": [
    "save_folder = \"../data/zebra_finch/test/\"\n",
    "os.makedirs( save_folder, exist_ok=True )\n",
    "for count, ( audio, label ) in enumerate( zip( audio_list_val, label_list_val ) ):\n",
    "    if \"cluster_id\" in label:\n",
    "        del label[\"cluster_id\"]\n",
    "    label[\"onset\"] = label[\"onset\"].tolist()\n",
    "    label[\"offset\"] = label[\"offset\"].tolist()\n",
    "    for channel_id in range( audio.shape[0] ):\n",
    "        sf.write( save_folder + \"/audio_count_%d_channel_%d.wav\"%( count, channel_id + 1 ), audio[channel_id], \n",
    "                  samplerate = label[\"sr\"] )\n",
    "    json.dump( label, open( save_folder + \"/audio_count_%d_channel_1.json\"%( count ), \"w\" ) )"
   ]
  },
  {
   "cell_type": "code",
   "execution_count": null,
   "id": "b9e753c3-6c78-4af2-addc-d16cf04992f5",
   "metadata": {},
   "outputs": [],
   "source": []
  }
 ],
 "metadata": {
  "kernelspec": {
   "display_name": "Python [conda env:wseg]",
   "language": "python",
   "name": "conda-env-wseg-py"
  },
  "language_info": {
   "codemirror_mode": {
    "name": "ipython",
    "version": 3
   },
   "file_extension": ".py",
   "mimetype": "text/x-python",
   "name": "python",
   "nbconvert_exporter": "python",
   "pygments_lexer": "ipython3",
   "version": "3.10.13"
  }
 },
 "nbformat": 4,
 "nbformat_minor": 5
}
