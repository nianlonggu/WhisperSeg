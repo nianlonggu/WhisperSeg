{
 "cells": [
  {
   "cell_type": "code",
   "execution_count": 1,
   "id": "1165b30d-bf8d-4b99-b9f2-d3e80a4a369c",
   "metadata": {},
   "outputs": [],
   "source": [
    "from huggingface_hub import HfApi\n",
    "api = HfApi()"
   ]
  },
  {
   "cell_type": "code",
   "execution_count": 2,
   "id": "dc4e1f9a-f6e9-4b98-ad74-44d8569425a5",
   "metadata": {},
   "outputs": [
    {
     "data": {
      "application/vnd.jupyter.widget-view+json": {
       "model_id": "14d640d32870406386bf09b91f4ffa81",
       "version_major": 2,
       "version_minor": 0
      },
      "text/plain": [
       "NHU05075086.wav:   0%|          | 0.00/15.9M [00:00<?, ?B/s]"
      ]
     },
     "metadata": {},
     "output_type": "display_data"
    },
    {
     "data": {
      "application/vnd.jupyter.widget-view+json": {
       "model_id": "d9c2d9fba9594608b082c083dfc986ca",
       "version_major": 2,
       "version_minor": 0
      },
      "text/plain": [
       "Upload 10 LFS files:   0%|          | 0/10 [00:00<?, ?it/s]"
      ]
     },
     "metadata": {},
     "output_type": "display_data"
    },
    {
     "data": {
      "application/vnd.jupyter.widget-view+json": {
       "model_id": "0c09e59d7e0c47ed9fdde28d9aad4c2a",
       "version_major": 2,
       "version_minor": 0
      },
      "text/plain": [
       "NHU05047121.wav:   0%|          | 0.00/1.87M [00:00<?, ?B/s]"
      ]
     },
     "metadata": {},
     "output_type": "display_data"
    },
    {
     "data": {
      "application/vnd.jupyter.widget-view+json": {
       "model_id": "6ec5735f588c4e68a6d48e581e2b1e58",
       "version_major": 2,
       "version_minor": 0
      },
      "text/plain": [
       "NHU05039063.wav:   0%|          | 0.00/22.8M [00:00<?, ?B/s]"
      ]
     },
     "metadata": {},
     "output_type": "display_data"
    },
    {
     "data": {
      "application/vnd.jupyter.widget-view+json": {
       "model_id": "b0ee1c526289487d98e309cfa0bbd446",
       "version_major": 2,
       "version_minor": 0
      },
      "text/plain": [
       "07037501.wav:   0%|          | 0.00/2.36M [00:00<?, ?B/s]"
      ]
     },
     "metadata": {},
     "output_type": "display_data"
    },
    {
     "data": {
      "application/vnd.jupyter.widget-view+json": {
       "model_id": "b58492d89c8e442082c16c9d74163eee",
       "version_major": 2,
       "version_minor": 0
      },
      "text/plain": [
       "NHU05050114.wav:   0%|          | 0.00/1.13M [00:00<?, ?B/s]"
      ]
     },
     "metadata": {},
     "output_type": "display_data"
    },
    {
     "data": {
      "application/vnd.jupyter.widget-view+json": {
       "model_id": "fa519aa4091f430babd40439ddb610ce",
       "version_major": 2,
       "version_minor": 0
      },
      "text/plain": [
       "NHU05077201.wav:   0%|          | 0.00/2.48M [00:00<?, ?B/s]"
      ]
     },
     "metadata": {},
     "output_type": "display_data"
    },
    {
     "data": {
      "application/vnd.jupyter.widget-view+json": {
       "model_id": "dd779c875cbc444485eb2a73976dc66f",
       "version_major": 2,
       "version_minor": 0
      },
      "text/plain": [
       "NHU05088072.wav:   0%|          | 0.00/3.71M [00:00<?, ?B/s]"
      ]
     },
     "metadata": {},
     "output_type": "display_data"
    },
    {
     "data": {
      "application/vnd.jupyter.widget-view+json": {
       "model_id": "6945d021cb83424c887cb8fca118dc77",
       "version_major": 2,
       "version_minor": 0
      },
      "text/plain": [
       "NHU05095218.wav:   0%|          | 0.00/9.95M [00:00<?, ?B/s]"
      ]
     },
     "metadata": {},
     "output_type": "display_data"
    },
    {
     "data": {
      "application/vnd.jupyter.widget-view+json": {
       "model_id": "8d981862c2244a4cb8ec118ded851598",
       "version_major": 2,
       "version_minor": 0
      },
      "text/plain": [
       "NHU05103095.wav:   0%|          | 0.00/25.2M [00:00<?, ?B/s]"
      ]
     },
     "metadata": {},
     "output_type": "display_data"
    },
    {
     "data": {
      "application/vnd.jupyter.widget-view+json": {
       "model_id": "887a7d0fbb544f2583306a6835b966f5",
       "version_major": 2,
       "version_minor": 0
      },
      "text/plain": [
       "NHU10217728.wav:   0%|          | 0.00/24.1M [00:00<?, ?B/s]"
      ]
     },
     "metadata": {},
     "output_type": "display_data"
    },
    {
     "data": {
      "text/plain": [
       "CommitInfo(commit_url='https://huggingface.co/datasets/nccratliri/wing-flap-noise-audio-examples/commit/6ea85eae220ebef74a1d0a7d5d18e1fedf8152ae', commit_message='Upload folder using huggingface_hub', commit_description='', oid='6ea85eae220ebef74a1d0a7d5d18e1fedf8152ae', pr_url=None, pr_revision=None, pr_num=None)"
      ]
     },
     "execution_count": 2,
     "metadata": {},
     "output_type": "execute_result"
    }
   ],
   "source": [
    "api.upload_folder(\n",
    "    folder_path=\"../data/datasets/zebra_finch_pretrained/raw/noise_audio/\",\n",
    "    repo_id=\"nccratliri/wing-flap-noise-audio-examples\",\n",
    "    repo_type=\"dataset\",\n",
    ")"
   ]
  },
  {
   "cell_type": "code",
   "execution_count": 1,
   "id": "483e0ed5-095a-4462-9a4d-558d32e30489",
   "metadata": {
    "tags": []
   },
   "outputs": [
    {
     "data": {
      "application/vnd.jupyter.widget-view+json": {
       "model_id": "1191273a52774fccb15dccf59e690f37",
       "version_major": 2,
       "version_minor": 0
      },
      "text/plain": [
       "wseg.tar.gz:   0%|          | 0.00/4.59G [00:00<?, ?B/s]"
      ]
     },
     "metadata": {},
     "output_type": "display_data"
    },
    {
     "data": {
      "application/vnd.jupyter.widget-view+json": {
       "model_id": "b8c83b2be74c4357b69cf0ee0f6ea887",
       "version_major": 2,
       "version_minor": 0
      },
      "text/plain": [
       "Upload 1 LFS files:   0%|          | 0/1 [00:00<?, ?it/s]"
      ]
     },
     "metadata": {},
     "output_type": "display_data"
    },
    {
     "data": {
      "text/plain": [
       "'https://huggingface.co/datasets/nccratliri/whisperseg-conda-env/tree/main/'"
      ]
     },
     "execution_count": 1,
     "metadata": {},
     "output_type": "execute_result"
    }
   ],
   "source": [
    "api.upload_folder(\n",
    "    folder_path=\"../../env/\",\n",
    "    repo_id=\"nccratliri/whisperseg-conda-env\",\n",
    "    repo_type=\"dataset\",\n",
    ")"
   ]
  },
  {
   "cell_type": "code",
   "execution_count": 2,
   "id": "2ec0ad7a-c2b0-49c2-921c-f1fa6ee8944f",
   "metadata": {},
   "outputs": [
    {
     "data": {
      "application/vnd.jupyter.widget-view+json": {
       "model_id": "f540b044800741c29c77412d3e5515c0",
       "version_major": 2,
       "version_minor": 0
      },
      "text/plain": [
       "pytorch_model.bin:   0%|          | 0.00/6.17G [00:00<?, ?B/s]"
      ]
     },
     "metadata": {},
     "output_type": "display_data"
    },
    {
     "data": {
      "text/plain": [
       "CommitInfo(commit_url='https://huggingface.co/nccratliri/whisperseg-zebra-finch-vad/commit/db993541c67999b63b8c865f14e68f1e8a43f379', commit_message='Upload folder using huggingface_hub', commit_description='', oid='db993541c67999b63b8c865f14e68f1e8a43f379', pr_url=None, pr_revision=None, pr_num=None)"
      ]
     },
     "execution_count": 2,
     "metadata": {},
     "output_type": "execute_result"
    }
   ],
   "source": [
    "api.upload_folder(\n",
    "    folder_path=\"../model/whisperseg-zebra-finch-vad/final_checkpoint/\",\n",
    "    repo_id=\"nccratliri/whisperseg-zebra-finch-vad\",\n",
    "    repo_type=\"model\",\n",
    ")"
   ]
  },
  {
   "cell_type": "code",
   "execution_count": 3,
   "id": "5d7b2b25-29af-4eda-a1f6-969cfdcdecc0",
   "metadata": {},
   "outputs": [
    {
     "data": {
      "application/vnd.jupyter.widget-view+json": {
       "model_id": "0bd69db544cf4507a6cce1a2e19a430e",
       "version_major": 2,
       "version_minor": 0
      },
      "text/plain": [
       "model.bin:   0%|          | 0.00/3.08G [00:00<?, ?B/s]"
      ]
     },
     "metadata": {},
     "output_type": "display_data"
    },
    {
     "data": {
      "text/plain": [
       "CommitInfo(commit_url='https://huggingface.co/nccratliri/whisperseg-meerkat-vad-ct2/commit/b0ae8fedc8da4c2ab58579a062be12d92fb141aa', commit_message='Upload folder using huggingface_hub', commit_description='', oid='b0ae8fedc8da4c2ab58579a062be12d92fb141aa', pr_url=None, pr_revision=None, pr_num=None)"
      ]
     },
     "execution_count": 3,
     "metadata": {},
     "output_type": "execute_result"
    }
   ],
   "source": [
    "api.upload_folder(\n",
    "    folder_path=\"../model/whisperseg-meerkat-zebra-finch-based-v2.0/final_checkpoint_ct2/\",\n",
    "    repo_id=\"nccratliri/whisperseg-meerkat-vad-ct2\",\n",
    "    repo_type=\"model\",\n",
    ")"
   ]
  },
  {
   "cell_type": "code",
   "execution_count": null,
   "id": "a96fde03-08c8-4f7b-9c09-ea8253e9db09",
   "metadata": {},
   "outputs": [],
   "source": []
  }
 ],
 "metadata": {
  "kernelspec": {
   "display_name": "Python [conda env:wseg]",
   "language": "python",
   "name": "conda-env-wseg-py"
  },
  "language_info": {
   "codemirror_mode": {
    "name": "ipython",
    "version": 3
   },
   "file_extension": ".py",
   "mimetype": "text/x-python",
   "name": "python",
   "nbconvert_exporter": "python",
   "pygments_lexer": "ipython3",
   "version": "3.10.13"
  }
 },
 "nbformat": 4,
 "nbformat_minor": 5
}
