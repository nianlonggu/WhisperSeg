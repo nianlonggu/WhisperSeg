{
 "cells": [
  {
   "cell_type": "markdown",
   "id": "018ae8d7-5c58-4fa6-b38b-ec470a43b37d",
   "metadata": {},
   "source": [
    "# Creation of Pseudo Multi-channel Data"
   ]
  },
  {
   "cell_type": "code",
   "execution_count": 1,
   "id": "f41b3cc8-22cc-4ca1-82d9-a4ec9591b208",
   "metadata": {},
   "outputs": [],
   "source": [
    "import librosa\n",
    "import numpy as np\n",
    "import numpy as np\n",
    "from scipy.signal import butter, lfilter\n",
    "from glob import glob\n",
    "from tqdm import tqdm\n",
    "import soundfile as sf\n",
    "import json\n",
    "import os"
   ]
  },
  {
   "cell_type": "code",
   "execution_count": 2,
   "id": "69fd9a19-c0ae-4c8f-8966-9e8631de87b0",
   "metadata": {},
   "outputs": [],
   "source": [
    "from audio_utils import SpecViewer"
   ]
  },
  {
   "cell_type": "code",
   "execution_count": 3,
   "id": "e48be5e2-53a0-4a3e-ae39-c40363b22761",
   "metadata": {},
   "outputs": [],
   "source": [
    "specviewer = SpecViewer()"
   ]
  },
  {
   "cell_type": "markdown",
   "id": "496b9ab1-03a4-42cf-baaa-a6f696325a57",
   "metadata": {},
   "source": [
    "# Download Zebra Finch Data"
   ]
  },
  {
   "cell_type": "code",
   "execution_count": 6,
   "id": "01ffd0f5-14a0-46c3-9c66-4b6c23ad407a",
   "metadata": {},
   "outputs": [],
   "source": [
    "from huggingface_hub import snapshot_download\n",
    "snapshot_download('nccratliri/vad-zebra-finch', local_dir = \"orig_data/zebra-finch\", repo_type=\"dataset\" )\n",
    "snapshot_download('nccratliri/wing-flap-noise-audio-examples', local_dir = \"noise_audios\", repo_type=\"dataset\" )"
   ]
  },
  {
   "cell_type": "markdown",
   "id": "5d5b0001-6194-4f90-ba4d-dc59e24650a1",
   "metadata": {},
   "source": [
    "# Create pseudo accelerometer audio"
   ]
  },
  {
   "cell_type": "code",
   "execution_count": 5,
   "id": "5d92ab56-a88c-44e2-aa3b-a838e9228d1c",
   "metadata": {},
   "outputs": [],
   "source": [
    "class PseudoAccAudioSynthesizer:\n",
    "    def __init__(self, noise_audio_file_pattern ):\n",
    "        self.noise_audio_sr = 48000\n",
    "        self.noise_audio = np.concatenate( [ librosa.load(fname, sr = self.noise_audio_sr)[0] for fname in glob(noise_audio_file_pattern)],\n",
    "                              axis = 0 \n",
    "                            )\n",
    "\n",
    "    def butter_lowpass(self, cutoff, fs, order=5):\n",
    "        nyq = 0.5 * fs\n",
    "        normal_cutoff = cutoff / nyq\n",
    "        b, a = butter(order, normal_cutoff, btype='low', analog=False)\n",
    "        return b, a\n",
    "\n",
    "    def butter_lowpass_filter(self, data, cutoff, fs, order=5):\n",
    "        b, a = self.butter_lowpass(cutoff, fs, order=order)\n",
    "        y = lfilter(b, a, data)\n",
    "        return y\n",
    "\n",
    "    def apply_low_pass_filter(self,  audio, sr, f_low, f_high, dur_min, dur_max ):\n",
    "        curr_pos = 0\n",
    "        processed_audio_list = []\n",
    "        while curr_pos < audio.shape[0]:\n",
    "            curr_dur = int(np.random.uniform(low=int(dur_min * sr), high=int(dur_max * sr) ))\n",
    "            audio_clip = audio[curr_pos:curr_pos + curr_dur]\n",
    "            curr_pos += curr_dur\n",
    "            \n",
    "            cutoff = np.random.uniform(low=f_low, high=f_high)\n",
    "            processed_audio_clip = self.butter_lowpass_filter(audio_clip, cutoff, sr)\n",
    "            processed_audio_list.append( processed_audio_clip )\n",
    "        \n",
    "        processed_audio = np.concatenate( processed_audio_list, axis = 0)[:len(audio)]\n",
    "        processed_audio = np.concatenate( [processed_audio, np.zeros( len(audio) - len(processed_audio) ) ], axis = 0 )\n",
    "        return processed_audio\n",
    "\n",
    "    def add_pseudo_wing_flap_noise(self,  audio, sr, dur_min, dur_max, noise_ratio, noise_audio, noise_audio_sr ):\n",
    "        curr_pos = 0\n",
    "        processed_audio_list = []\n",
    "\n",
    "        if sr != noise_audio_sr:\n",
    "            noise_audio = librosa.resample( noise_audio, orig_sr = noise_audio_sr, target_sr = sr )\n",
    "        while curr_pos < audio.shape[0]:\n",
    "            curr_dur = int(np.random.uniform(low=int(dur_min * sr), high=int(dur_max * sr) ))\n",
    "            audio_clip = audio[curr_pos:curr_pos + curr_dur]\n",
    "            curr_pos += curr_dur\n",
    "\n",
    "            if np.random.rand() < noise_ratio:\n",
    "                random_offset_in_noise = np.random.choice( len(noise_audio) - len(audio_clip) )\n",
    "                processed_audio_clip = audio_clip + noise_audio[random_offset_in_noise:random_offset_in_noise + len(audio_clip) ]\n",
    "            else:\n",
    "                processed_audio_clip = audio_clip\n",
    "            processed_audio_list.append( processed_audio_clip )\n",
    "        \n",
    "        processed_audio = np.concatenate( processed_audio_list, axis = 0)[:len(audio)]\n",
    "        processed_audio = np.concatenate( [processed_audio, np.zeros( len(audio) - len(processed_audio) ) ], axis = 0 )\n",
    "        return processed_audio\n",
    "\n",
    "    def add_white_noise(self,  audio ):\n",
    "        # Add white noise\n",
    "        noise_amp = 0.005 * np.amax(audio)\n",
    "        noise = noise_amp * np.random.normal(size=audio.shape)\n",
    "        audio_with_noise = audio + noise\n",
    "        return audio_with_noise\n",
    "\n",
    "    def synthesize( self, audio, sr ):\n",
    "        processed_audio = self.apply_low_pass_filter( audio, sr, f_low = 400, f_high = 2000, dur_min = 0.1, dur_max = 1.0 )\n",
    "        processed_audio = self.add_pseudo_wing_flap_noise( processed_audio, sr, dur_min = 0.1, dur_max = 1.0, noise_ratio = 0.1, \n",
    "                             noise_audio = self.noise_audio, noise_audio_sr = self.noise_audio_sr )\n",
    "        processed_audio = self.add_white_noise(processed_audio)\n",
    "        assert len(processed_audio) == len(audio)\n",
    "        return processed_audio"
   ]
  },
  {
   "cell_type": "code",
   "execution_count": 6,
   "id": "f2040a5d-fcdd-4862-9022-3d8bcb424ff5",
   "metadata": {},
   "outputs": [],
   "source": [
    "audio_synthesizer = PseudoAccAudioSynthesizer( \"noise_audios/*.wav\" )"
   ]
  },
  {
   "cell_type": "code",
   "execution_count": 7,
   "id": "c5dabcc9-fa47-43da-a549-a2a8d3f0bf4d",
   "metadata": {},
   "outputs": [],
   "source": [
    "orig_audio_fname_list = glob( \"orig_data/zebra-finch/train/*.wav\" )"
   ]
  },
  {
   "cell_type": "code",
   "execution_count": 16,
   "id": "c5f4bcf1-5b20-4c67-bad5-d0f382828adf",
   "metadata": {},
   "outputs": [
    {
     "name": "stderr",
     "output_type": "stream",
     "text": [
      "100%|████████████████████████████████████████████████████████████████████████████████████████| 2606/2606 [13:11<00:00,  3.29it/s]\n"
     ]
    }
   ],
   "source": [
    "for fname in tqdm(orig_audio_fname_list):\n",
    "    audio, sr = librosa.load( fname, sr = None )\n",
    "    acc_audio = audio_synthesizer.synthesize( audio, sr )\n",
    "    acc_save_name = fname[:-4] + \"_acc.wav\"\n",
    "    sf.write( acc_save_name, acc_audio, samplerate = sr )"
   ]
  },
  {
   "cell_type": "code",
   "execution_count": 22,
   "id": "c2413f09-db5f-4eb4-843c-30864c951259",
   "metadata": {},
   "outputs": [
    {
     "data": {
      "application/vnd.jupyter.widget-view+json": {
       "model_id": "c3d62c56e50a4d9fadc467c996391ecf",
       "version_major": 2,
       "version_minor": 0
      },
      "text/plain": [
       "interactive(children=(FloatSlider(value=0.0, description='offset', max=0.0, step=0.25), Output()), _dom_classe…"
      ]
     },
     "metadata": {},
     "output_type": "display_data"
    },
    {
     "data": {
      "text/plain": [
       "<function ipywidgets.widgets.interaction._InteractFactory.__call__.<locals>.<lambda>(*args, **kwargs)>"
      ]
     },
     "execution_count": 22,
     "metadata": {},
     "output_type": "execute_result"
    }
   ],
   "source": [
    "specviewer.visualize( acc_audio, sr )"
   ]
  },
  {
   "cell_type": "code",
   "execution_count": null,
   "id": "07f580e4-971a-4e89-8090-f312972c131c",
   "metadata": {},
   "outputs": [],
   "source": []
  },
  {
   "cell_type": "markdown",
   "id": "364f1132-e8ca-49dd-afa3-315dd46e7043",
   "metadata": {},
   "source": [
    "# Mix audio to create multi-channel dataset"
   ]
  },
  {
   "cell_type": "code",
   "execution_count": 7,
   "id": "a130424a-735e-4182-ab21-a21ca9897e6b",
   "metadata": {},
   "outputs": [],
   "source": [
    "basename_list = [ item[:-5] for item in glob(  \"orig_data/zebra-finch/train/*.json\" )]"
   ]
  },
  {
   "cell_type": "code",
   "execution_count": 8,
   "id": "e4e8fd25-04c6-4391-a433-ca72d9d6e6cb",
   "metadata": {},
   "outputs": [],
   "source": [
    "save_folder = \"mc_data/zebra-finch/train/\"\n",
    "os.makedirs( save_folder, exist_ok=True )"
   ]
  },
  {
   "cell_type": "code",
   "execution_count": 9,
   "id": "04f71479-6c01-44e5-9a0c-eb3c8e5a4eb1",
   "metadata": {},
   "outputs": [
    {
     "name": "stderr",
     "output_type": "stream",
     "text": [
      "100%|████████████████████████████████████████████████████████████████████████████████████████| 2606/2606 [00:41<00:00, 63.27it/s]\n"
     ]
    }
   ],
   "source": [
    "for count, basename in enumerate(tqdm(basename_list)):\n",
    "    label = json.load( open(basename + \".json\") )\n",
    "    label[\"sr\"] = 16000\n",
    "    target_clue_audio, _ = librosa.load( basename + \"_acc.wav\", sr = label[\"sr\"] )\n",
    "    \n",
    "    num_non_targets = np.random.choice( [1,2,3] )\n",
    "    non_target_basename_list = []\n",
    "    for _ in range( num_non_targets ):\n",
    "        while True:\n",
    "            non_target_idx = np.random.choice( len(basename_list) )\n",
    "            if non_target_idx != count:\n",
    "                break\n",
    "        non_target_basename_list.append( basename_list[non_target_idx] )\n",
    "    non_target_audio = None\n",
    "    for fname in non_target_basename_list:\n",
    "        audio, _ = librosa.load( fname + \"_acc.wav\" , sr = label[\"sr\"] )\n",
    "        audio = audio[:len(target_clue_audio)]\n",
    "        audio = np.concatenate( [audio, np.zeros( len(target_clue_audio) - len(audio) )], axis = 0 ).astype(np.float32)\n",
    "        if non_target_audio is None:\n",
    "            non_target_audio = audio\n",
    "        else:\n",
    "            non_target_audio = non_target_audio + audio\n",
    "    \n",
    "    mix_recording_audio, _ = librosa.load( basename + \".wav\", sr = label[\"sr\"] )\n",
    "    for fname in non_target_basename_list:        \n",
    "        audio, _ = librosa.load( fname + \".wav\" , sr = label[\"sr\"] )\n",
    "        audio = audio[:len(mix_recording_audio)]\n",
    "        audio = np.concatenate( [audio, np.zeros( len(mix_recording_audio) - len(audio) )], axis = 0 ).astype(np.float32)\n",
    "        mix_recording_audio += audio\n",
    "\n",
    "    save_basename = os.path.basename( basename )\n",
    "    json.dump( label,  open( save_folder + \"/\" +  save_basename + \"_1.json\", \"w\" ) )\n",
    "    sf.write( save_folder + \"/\" +  save_basename + \"_1.wav\", target_clue_audio, samplerate = label[\"sr\"] )\n",
    "    sf.write( save_folder + \"/\" +  save_basename + \"_2.wav\", non_target_audio, samplerate = label[\"sr\"] )\n",
    "    sf.write( save_folder + \"/\" +  save_basename + \"_3.wav\", mix_recording_audio, samplerate = label[\"sr\"] )\n"
   ]
  },
  {
   "cell_type": "code",
   "execution_count": 17,
   "id": "eaba1842-cb83-46c3-9862-6c608bb41ae9",
   "metadata": {},
   "outputs": [],
   "source": [
    "label_fname_list = glob(  \"mc_data/zebra-finch/train/*.json\" )\n",
    "for fname in label_fname_list:\n",
    "    label = json.load( open(fname) )\n",
    "    label[\"species\"] = \"animal\"\n",
    "    label[\"cluster\"] = [ \"vocal\" ] * len( label[\"cluster\"] )\n",
    "    json.dump( label, open(fname, \"w\") )"
   ]
  },
  {
   "cell_type": "code",
   "execution_count": null,
   "id": "ff7ee842-83f3-4890-ab04-982483baa6de",
   "metadata": {},
   "outputs": [],
   "source": []
  },
  {
   "cell_type": "code",
   "execution_count": null,
   "id": "f7c70860-ce60-4c20-b94d-e831cf20d40c",
   "metadata": {},
   "outputs": [],
   "source": []
  },
  {
   "cell_type": "code",
   "execution_count": 97,
   "id": "2c24c6d5-dc8e-404e-9557-00bb10d0de5f",
   "metadata": {},
   "outputs": [
    {
     "data": {
      "application/vnd.jupyter.widget-view+json": {
       "model_id": "9e6e710550354f2c9c9b36cbc69fdd86",
       "version_major": 2,
       "version_minor": 0
      },
      "text/plain": [
       "interactive(children=(FloatSlider(value=0.0, description='offset', max=0.0, step=0.25), Output()), _dom_classe…"
      ]
     },
     "metadata": {},
     "output_type": "display_data"
    },
    {
     "data": {
      "text/plain": [
       "<function ipywidgets.widgets.interaction._InteractFactory.__call__.<locals>.<lambda>(*args, **kwargs)>"
      ]
     },
     "execution_count": 97,
     "metadata": {},
     "output_type": "execute_result"
    }
   ],
   "source": [
    "specviewer.visualize(target_clue_audio, label[\"sr\"], label = label )"
   ]
  },
  {
   "cell_type": "code",
   "execution_count": 98,
   "id": "730ae78f-c944-491e-8627-07dd6407c549",
   "metadata": {},
   "outputs": [
    {
     "data": {
      "application/vnd.jupyter.widget-view+json": {
       "model_id": "29ecae2307d046f689d81c3685a456c1",
       "version_major": 2,
       "version_minor": 0
      },
      "text/plain": [
       "interactive(children=(FloatSlider(value=0.0, description='offset', max=0.0, step=0.25), Output()), _dom_classe…"
      ]
     },
     "metadata": {},
     "output_type": "display_data"
    },
    {
     "data": {
      "text/plain": [
       "<function ipywidgets.widgets.interaction._InteractFactory.__call__.<locals>.<lambda>(*args, **kwargs)>"
      ]
     },
     "execution_count": 98,
     "metadata": {},
     "output_type": "execute_result"
    }
   ],
   "source": [
    "specviewer.visualize(non_target_audio, label[\"sr\"], label = label )"
   ]
  },
  {
   "cell_type": "code",
   "execution_count": 99,
   "id": "3038b57c-9060-481d-9d8e-260783c0d9bf",
   "metadata": {},
   "outputs": [
    {
     "data": {
      "application/vnd.jupyter.widget-view+json": {
       "model_id": "c35bff3aea0a43ce8aca5a5be0d7bd58",
       "version_major": 2,
       "version_minor": 0
      },
      "text/plain": [
       "interactive(children=(FloatSlider(value=0.0, description='offset', max=0.0, step=0.25), Output()), _dom_classe…"
      ]
     },
     "metadata": {},
     "output_type": "display_data"
    },
    {
     "data": {
      "text/plain": [
       "<function ipywidgets.widgets.interaction._InteractFactory.__call__.<locals>.<lambda>(*args, **kwargs)>"
      ]
     },
     "execution_count": 99,
     "metadata": {},
     "output_type": "execute_result"
    }
   ],
   "source": [
    "specviewer.visualize(mix_recording_audio, label[\"sr\"], label = label )"
   ]
  },
  {
   "cell_type": "code",
   "execution_count": null,
   "id": "b0b4e969-cd88-40c9-aaf6-78ad355ae5e4",
   "metadata": {},
   "outputs": [],
   "source": []
  },
  {
   "cell_type": "code",
   "execution_count": null,
   "id": "fd605c47-eb69-4a41-a7d7-90d137409248",
   "metadata": {},
   "outputs": [],
   "source": []
  },
  {
   "cell_type": "code",
   "execution_count": null,
   "id": "35c2c078-96a4-4029-8cff-02f71f25a186",
   "metadata": {},
   "outputs": [],
   "source": []
  }
 ],
 "metadata": {
  "kernelspec": {
   "display_name": "Python [conda env:wseg]",
   "language": "python",
   "name": "conda-env-wseg-py"
  },
  "language_info": {
   "codemirror_mode": {
    "name": "ipython",
    "version": 3
   },
   "file_extension": ".py",
   "mimetype": "text/x-python",
   "name": "python",
   "nbconvert_exporter": "python",
   "pygments_lexer": "ipython3",
   "version": "3.10.13"
  }
 },
 "nbformat": 4,
 "nbformat_minor": 5
}
