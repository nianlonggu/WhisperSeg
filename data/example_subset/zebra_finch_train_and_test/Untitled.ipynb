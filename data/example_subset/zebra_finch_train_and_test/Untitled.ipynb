{
 "cells": [
  {
   "cell_type": "code",
   "execution_count": 5,
   "id": "d8eaa07c-0a4d-4580-9565-13a648e2dfe9",
   "metadata": {},
   "outputs": [],
   "source": [
    "import json\n",
    "import librosa\n",
    "import soundfile as sf\n",
    "import numpy as np\n",
    "import os\n",
    "from glob import glob"
   ]
  },
  {
   "cell_type": "code",
   "execution_count": 16,
   "id": "0236ce62-b048-45a7-8bd5-9fb9ad593ab2",
   "metadata": {},
   "outputs": [],
   "source": [
    "for audio_fname in glob(\"./*/*.wav\"):\n",
    "    audio, sr = librosa.load(audio_fname, sr = None)\n",
    "    if \"train\" in audio_fname:\n",
    "        dur = 100\n",
    "    else:\n",
    "        dur = 50\n",
    "        \n",
    "    audio = audio[ :int(sr * dur) ]\n",
    "    sf.write(audio_fname, audio, samplerate=sr )\n",
    "    \n",
    "    if \"channel_1\" in audio_fname:\n",
    "        label_fname = audio_fname[:-4] + \".json\"\n",
    "        label = json.load(open(label_fname))\n",
    "        onset = np.array(label[\"onset\"])\n",
    "        offset = np.array(label[\"offset\"])\n",
    "        valid_indices = onset < len(audio)/sr\n",
    "        onset = onset[valid_indices]\n",
    "        offset = offset[valid_indices]\n",
    "        offset[offset>len(audio)/sr] = len(audio)/sr\n",
    "        label[\"onset\"] = onset.tolist()\n",
    "        label[\"offset\"] = offset.tolist()\n",
    "        label[\"cluster\"] = [ \"vocal\" ] * len( onset )\n",
    "\n",
    "        json.dump( label, open(label_fname, \"w\") )"
   ]
  },
  {
   "cell_type": "code",
   "execution_count": null,
   "id": "4f6dd538-b738-4e33-8034-b4121c32c20a",
   "metadata": {},
   "outputs": [],
   "source": []
  }
 ],
 "metadata": {
  "kernelspec": {
   "display_name": "Python [conda env:wseg]",
   "language": "python",
   "name": "conda-env-wseg-py"
  },
  "language_info": {
   "codemirror_mode": {
    "name": "ipython",
    "version": 3
   },
   "file_extension": ".py",
   "mimetype": "text/x-python",
   "name": "python",
   "nbconvert_exporter": "python",
   "pygments_lexer": "ipython3",
   "version": "3.10.14"
  }
 },
 "nbformat": 4,
 "nbformat_minor": 5
}
